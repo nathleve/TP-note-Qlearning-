{
 "cells": [
  {
   "attachments": {},
   "cell_type": "markdown",
   "id": "1a711017",
   "metadata": {},
   "source": [
    "Ce notebook à pour but de créer un algorithme de Q leaning dans le contexte de vente et d'achat d'action. \n",
    "L'algorithme peut utiliser plusieurs cours d'actions de différentes entreprises en même temps\n",
    "Afin de rendre l'algorithme plus facile, la quantité d'action et leur prix sont discrétisé pour la matrice Q des actions possibles\n",
    "C'est à dire que l\"on va séparer les valeurs en quantile, par exemple si l'on utilise 5 quantile alors on peut avoir 0%,20%,40%,... des données et on les actions peuvent être au dessus de 0%,20%,40% de leur valeur maximale.\n",
    "Pour des soucis d'implémentation on oblige le nombre de quantile sur le prix des actions et la quantité d'action à être identique."
   ]
  },
  {
   "attachments": {},
   "cell_type": "markdown",
   "id": "a500fe0b",
   "metadata": {},
   "source": [
    "Pour plus de précision sur le système de discrétisation. \n",
    "Par la suite on appellera indifférement n_quantile ou n_nuance le nombre de palier de notre différentiation. \n",
    "Par exemple avec n_quantile = k alors on peut avoir 0%, (1/k)%, (2/k)%,(k-1/k)%,100% action de l'entreprise que l'on notera 0,1,2,...,k actions. \n",
    "Et toujours avec n_quantile = k alors les actions peuvent valoir 0%, (1/k)%, (2/k)%,(k-1/k)%,100% de leur variable maximale, toujours noté 0,1,2,...,k"
   ]
  },
  {
   "attachments": {},
   "cell_type": "markdown",
   "id": "7f31dfc7",
   "metadata": {},
   "source": [
    "Attention augmenter le nombre d'actions considérées et de quantile augmente exponentiellement la taille de la matrice Q. \n",
    "Nous avons donc utiliser l'algorithme seulement sur 2 cours d'actions sinon nous dépassons les capacités de nos ordinateurs"
   ]
  },
  {
   "cell_type": "code",
   "execution_count": 27,
   "id": "7d8cba44",
   "metadata": {},
   "outputs": [],
   "source": [
    "from numpy.random import default_rng\n",
    "\n",
    "import pandas as pd\n",
    "import numpy as np\n",
    "import matplotlib.pyplot as plt\n",
    "from numpy.random import uniform"
   ]
  },
  {
   "cell_type": "code",
   "execution_count": 28,
   "id": "96a1232a",
   "metadata": {},
   "outputs": [],
   "source": [
    "# La matrice Q est la matrice qui contient nos probabilité de transitions d'un êtat présent à un êtat futur\n",
    "# L'indice de la ligne correspond à l'êtat présent du système tandis que la colonne indique le futur êtat si l'action est prise \n",
    "# Si l'on note n_quantile le nombre de quantile possible ie le nombre de nuance que l'on donne \n",
    "# La relation entre les indices et les êtats qu'ils représentent ressemblent à un changement de base \n",
    "def initQ3(state0,n_quantile):\n",
    "    \n",
    "   \n",
    "    n_action = int((len(state0) - 1)/2)\n",
    "    n_action = int(n_action*2)\n",
    "    Q = default_rng(70).random(((n_quantile + 1 )**n_action,((n_quantile + 1 )**n_action)))\n",
    "    \n",
    "    return Q   "
   ]
  },
  {
   "cell_type": "code",
   "execution_count": 29,
   "id": "8ca3740c",
   "metadata": {},
   "outputs": [
    {
     "data": {
      "text/plain": [
       "15625"
      ]
     },
     "execution_count": 29,
     "metadata": {},
     "output_type": "execute_result"
    }
   ],
   "source": [
    "Q = initQ3([0,0,0,0,0,0,1000],4)\n",
    "len(Q)"
   ]
  },
  {
   "cell_type": "code",
   "execution_count": 30,
   "id": "d5e817aa",
   "metadata": {},
   "outputs": [],
   "source": [
    "def state_to_indice2(state,n_action,n_quantile):\n",
    "    # On prend un êtat et on son indice dans la matrice Q \n",
    "    # L'idée de cette fonction est que l'on passe d'un base n_quantile + 1(l'êtat) à une base 1(l'indice) \n",
    "    indice = 0 \n",
    "    for k in range(n_action*2):\n",
    "        indice += state[k] * (n_quantile + 1)**k\n",
    "    return int(indice)"
   ]
  },
  {
   "cell_type": "code",
   "execution_count": 31,
   "id": "7b00b32f",
   "metadata": {},
   "outputs": [],
   "source": [
    "def indice_to_action2(indice,n_action,n_quantile):\n",
    "    # On prend une place dans la matrice Q  et on retourne l'êtat correspondant \n",
    "    # L'idée de cette fonction est que l'on passe d'un base 1 à une base   n_quantile + 1\n",
    "    action = []\n",
    "    for k in range((n_action)*2 - 1,-1,-1):\n",
    "        terme = indice // (n_quantile+1)**(k)\n",
    "        action.insert(0,terme)\n",
    "        indice = indice - terme * (n_quantile+1)**k\n",
    "    return(action)\n"
   ]
  },
  {
   "cell_type": "code",
   "execution_count": 32,
   "id": "e60d8053",
   "metadata": {},
   "outputs": [],
   "source": [
    "def action_possible2(state,action,budget,true_state):\n",
    "    # On vérifie si notre transiction de notre êtat actuel à l'êtat suivant est possible\n",
    "    # ie on vérifie si on peut acheter les actions avec notre budget que l'on avait \n",
    "    possible = False\n",
    "    depense = 0 \n",
    "    n_action = int((len(state) - 1)/2)\n",
    "    \n",
    "\n",
    "    for k in range(n_action):\n",
    "        depense =  depense + (action[k] - state[k])*true_state[k]\n",
    "    if budget >= depense:\n",
    "        possible = True\n",
    "    return(possible) "
   ]
  },
  {
   "cell_type": "code",
   "execution_count": 33,
   "id": "89e9375c",
   "metadata": {},
   "outputs": [],
   "source": [
    "def choix_action3(state,Q,valeurs,n_quantile,true_state):\n",
    "    # On choisit l'action selon la valeur de la matrice Q à a la ligne de l'êtat présent\n",
    "    # On ajoute un facteur aléatoire d'une loi uniforme afin de ne pas rester bloqué dans une boucle lors de l'apprentissage\n",
    "    new_state = [0]*len(state)\n",
    "    n_action = int((len(state) - 1)/2)\n",
    "    new_state[n_action:] = valeurs\n",
    "    budget = state[-1]\n",
    "    j = 0\n",
    "    # On récupère l'indice de la ligne de l'êtat présent\n",
    "    s = state_to_indice2(state,n_action,n_quantile)\n",
    "    max = -10\n",
    "    for i in range((n_quantile+1)**n_action):\n",
    "        action = indice_to_action2(i,n_action,n_quantile)\n",
    "        possible = action_possible2(state,action,budget,true_state)\n",
    "        # Le facteur a va servir à rajouter de l'aléatoire au choix de l'action suivante afin de ne pas rester bloqué sur un êtat \n",
    "        a = uniform(0,1)\n",
    "        \n",
    "        if a*Q[s][i] >= max and possible == True: \n",
    "            if action[n_action:] == valeurs:\n",
    "                j = i\n",
    "                max=Q[s][i]\n",
    "                new_state[0:n_action] = action\n",
    "    return new_state, j"
   ]
  },
  {
   "cell_type": "code",
   "execution_count": 34,
   "id": "018b4c7d",
   "metadata": {},
   "outputs": [],
   "source": [
    "def reward2(new_state,state,n_action,true_state):\n",
    "    # Calcul de la récompense c'est à dire notre argent après les transactions\n",
    "    # On part du budget\n",
    "    R = true_state[-1]\n",
    "    for k in range(n_action):\n",
    "        # On ajoute ce que l'on a avec nos actions présentes moins ce que l'on aurait eu en gardant les actions précédentes \n",
    "        R += new_state[k]*true_state[k] - state[k]*true_state[k] \n",
    "    return(R/state[-1])"
   ]
  },
  {
   "cell_type": "code",
   "execution_count": 35,
   "id": "a02ea4a5",
   "metadata": {},
   "outputs": [],
   "source": [
    "def diff2(state,new_state,Q,a,n_quantile):\n",
    "    # Calcul d'un terme de changement de la matrice Q \n",
    "    n_action = int((len(state) - 1)/2)\n",
    "    indice1 = state_to_indice2(state,n_action,n_quantile)\n",
    "    max = -10\n",
    "    c = Q[indice1][a]\n",
    "    for i in range(((n_quantile + 1 ))**n_action):\n",
    "        if Q[indice1][i] - c >= max:\n",
    "            max = Q[int(indice1)][i]-c\n",
    "    return max"
   ]
  },
  {
   "cell_type": "code",
   "execution_count": 36,
   "id": "bd7fd0f7",
   "metadata": {},
   "outputs": [],
   "source": [
    "def make_new_state2(new_state,state,n_action,true_data,k):\n",
    "    # Créé le nouvel êtat à partir de l'action choisit\n",
    "    # ie on va calculer l'augmentation de notre budget en retirant la quantité d'action acheté par leur prix\n",
    "    budget2 = state[-1]\n",
    "    for i in range(n_action):\n",
    "        budget2 = budget2 + (state[i] - new_state[i])*true_data[k][i]\n",
    "    new_state.append(budget2)\n",
    "    return(new_state)"
   ]
  },
  {
   "cell_type": "code",
   "execution_count": 37,
   "id": "5043b4f8",
   "metadata": {},
   "outputs": [],
   "source": [
    "def qlearning3(state0, data, alpha, gamma,n_quantile,true_data): # alpha : pas de l'algorithme; gamma : hyperparamètre\n",
    "    # data les données en quantiles \n",
    "    # true_data contient les données avant la transformation en quantile sert nottament à calculer notre budget\n",
    "    Q = initQ3(state0,n_quantile)\n",
    "    n_action = int((len(state0) - 1)/2)\n",
    "    state = state0\n",
    "    liste_state = []\n",
    "    # boucle sur l'ensemble des données pour l'apprentissage \n",
    "    for k in range(1,len(data)):\n",
    "        #On choisit le nouvel êtat en se basant sur la matrice Q\n",
    "        true_state = true_data[k] \n",
    "        new_state = choix_action3(state,Q,data[k],n_quantile,true_state)[0]\n",
    "        new_state[n_action:] = data[k]\n",
    "        # On calcule l'indice du nouvel êtat/action\n",
    "        indice_action = choix_action3(state,Q,data[k],n_quantile,true_state)[1]\n",
    "\n",
    "        # étape d'update de la matrice Q\n",
    "        R = reward2(new_state,state,n_action,true_state) # ce qu'on a perdu ou gagné à l'étape (reward)\n",
    "\n",
    "        difference = diff2(state,new_state,Q,indice_action,n_quantile)\n",
    "\n",
    "        indice1 = state_to_indice2(state,n_action,n_quantile)\n",
    "        Q[indice1][indice_action] += alpha*(R+gamma*difference)\n",
    "        # On termine de créer le nouvel êtat du système \n",
    "        state = make_new_state2(new_state,state,n_action,true_data,k)\n",
    "        # On ajoute l'êtat à la trajectoire\n",
    "        liste_state.append(state)\n",
    "    return Q, liste_state"
   ]
  },
  {
   "cell_type": "code",
   "execution_count": 38,
   "id": "7f9ef471",
   "metadata": {},
   "outputs": [],
   "source": [
    "# On test l'algorithme de Q learning \n",
    "stocks = pd.read_csv('all_stocks_5yr.csv')\n"
   ]
  },
  {
   "cell_type": "code",
   "execution_count": 39,
   "id": "2d5819fb",
   "metadata": {},
   "outputs": [
    {
     "data": {
      "text/html": [
       "<div>\n",
       "<style scoped>\n",
       "    .dataframe tbody tr th:only-of-type {\n",
       "        vertical-align: middle;\n",
       "    }\n",
       "\n",
       "    .dataframe tbody tr th {\n",
       "        vertical-align: top;\n",
       "    }\n",
       "\n",
       "    .dataframe thead th {\n",
       "        text-align: right;\n",
       "    }\n",
       "</style>\n",
       "<table border=\"1\" class=\"dataframe\">\n",
       "  <thead>\n",
       "    <tr style=\"text-align: right;\">\n",
       "      <th></th>\n",
       "      <th>close</th>\n",
       "      <th>Name</th>\n",
       "    </tr>\n",
       "  </thead>\n",
       "  <tbody>\n",
       "    <tr>\n",
       "      <th>0</th>\n",
       "      <td>14.75</td>\n",
       "      <td>AAL</td>\n",
       "    </tr>\n",
       "    <tr>\n",
       "      <th>1</th>\n",
       "      <td>14.46</td>\n",
       "      <td>AAL</td>\n",
       "    </tr>\n",
       "    <tr>\n",
       "      <th>2</th>\n",
       "      <td>14.27</td>\n",
       "      <td>AAL</td>\n",
       "    </tr>\n",
       "    <tr>\n",
       "      <th>3</th>\n",
       "      <td>14.66</td>\n",
       "      <td>AAL</td>\n",
       "    </tr>\n",
       "    <tr>\n",
       "      <th>4</th>\n",
       "      <td>13.99</td>\n",
       "      <td>AAL</td>\n",
       "    </tr>\n",
       "    <tr>\n",
       "      <th>...</th>\n",
       "      <td>...</td>\n",
       "      <td>...</td>\n",
       "    </tr>\n",
       "    <tr>\n",
       "      <th>619035</th>\n",
       "      <td>77.82</td>\n",
       "      <td>ZTS</td>\n",
       "    </tr>\n",
       "    <tr>\n",
       "      <th>619036</th>\n",
       "      <td>76.78</td>\n",
       "      <td>ZTS</td>\n",
       "    </tr>\n",
       "    <tr>\n",
       "      <th>619037</th>\n",
       "      <td>73.83</td>\n",
       "      <td>ZTS</td>\n",
       "    </tr>\n",
       "    <tr>\n",
       "      <th>619038</th>\n",
       "      <td>73.27</td>\n",
       "      <td>ZTS</td>\n",
       "    </tr>\n",
       "    <tr>\n",
       "      <th>619039</th>\n",
       "      <td>73.86</td>\n",
       "      <td>ZTS</td>\n",
       "    </tr>\n",
       "  </tbody>\n",
       "</table>\n",
       "<p>619040 rows × 2 columns</p>\n",
       "</div>"
      ],
      "text/plain": [
       "        close Name\n",
       "0       14.75  AAL\n",
       "1       14.46  AAL\n",
       "2       14.27  AAL\n",
       "3       14.66  AAL\n",
       "4       13.99  AAL\n",
       "...       ...  ...\n",
       "619035  77.82  ZTS\n",
       "619036  76.78  ZTS\n",
       "619037  73.83  ZTS\n",
       "619038  73.27  ZTS\n",
       "619039  73.86  ZTS\n",
       "\n",
       "[619040 rows x 2 columns]"
      ]
     },
     "execution_count": 39,
     "metadata": {},
     "output_type": "execute_result"
    }
   ],
   "source": [
    "stocks = stocks.drop(['date', 'open', 'high', 'low', 'volume'], axis=1) \n",
    "stocks"
   ]
  },
  {
   "cell_type": "code",
   "execution_count": 40,
   "id": "b331f42c",
   "metadata": {},
   "outputs": [
    {
     "data": {
      "text/plain": [
       "close    30.82\n",
       "Name       CBG\n",
       "Name: 100000, dtype: object"
      ]
     },
     "execution_count": 40,
     "metadata": {},
     "output_type": "execute_result"
    }
   ],
   "source": [
    "stocks.iloc[100000]"
   ]
  },
  {
   "cell_type": "code",
   "execution_count": 58,
   "id": "3748fbd6",
   "metadata": {},
   "outputs": [],
   "source": [
    "stocksAAL = stocks.loc[stocks['Name'] == \"AAL\"]\n",
    "stocksAAL = stocksAAL[\"close\"].values.tolist()\n",
    "stocksZTS = stocks.loc[stocks['Name'] == \"ZTS\"]\n",
    "stocksZTS = stocksZTS[\"close\"].values.tolist()\n",
    "\n",
    "data = []\n",
    "for k in range(len(stocksAAL)): \n",
    "    data.append([stocksAAL[k],stocksZTS[k]])"
   ]
  },
  {
   "attachments": {},
   "cell_type": "markdown",
   "id": "81435360",
   "metadata": {},
   "source": [
    "On applique une transformation au données pour les transformer en 1,2,...,n_quantile"
   ]
  },
  {
   "cell_type": "code",
   "execution_count": 42,
   "id": "662db4a2",
   "metadata": {},
   "outputs": [],
   "source": [
    "def data_to_limite_quantile(data,n_quantile):\n",
    "    # Détermine les quantiles d'ordre n_quantile% du jeu de données \n",
    "    # Retourne une liste de taille n_action*n_quantile\n",
    "    seq_quantile = [1]\n",
    "    limite = []\n",
    "    for j in range(1,n_quantile + 1):\n",
    "        seq_quantile.append(1 - j/(n_quantile))\n",
    "    data_bis = []\n",
    "    for n in range(len(data[1])): \n",
    "        data_bis.append([])\n",
    "    for d in data: \n",
    "        for i in range(len(d)):\n",
    "            data_bis[i].append(d[i])\n",
    "\n",
    "    for d in data_bis:\n",
    "        limite.append(list((np.quantile(d,seq_quantile))))\n",
    "    return limite"
   ]
  },
  {
   "cell_type": "code",
   "execution_count": 43,
   "id": "a84a97b0",
   "metadata": {},
   "outputs": [],
   "source": [
    "def data_to_quantile(data,limite_quantile):\n",
    "    #Transforme notre jeux de données en les quantiles associé\n",
    "    n_quantile = len(limite_quantile[0]) - 1\n",
    "    new_data = []\n",
    "    for j in range(len(data)):\n",
    "        new_data.append([])\n",
    "        for i in range(len(data[0])):\n",
    "            new_data[j].append(-10)\n",
    "    for k in range(len(data)):\n",
    "        quantile = 0\n",
    "        quantiles = []\n",
    "        dk = data[k]\n",
    "        for j in range(len(dk)):\n",
    "            d = dk[j]\n",
    "            for i in range(n_quantile - 1):\n",
    "                if d <= limite_quantile[j][i] and d >= limite_quantile[j][i +1]:\n",
    "                    quantile = n_quantile - i\n",
    "            quantiles.append(quantile)\n",
    "        new_data[k] = quantiles\n",
    "    return(new_data)"
   ]
  },
  {
   "cell_type": "code",
   "execution_count": 44,
   "id": "09c2088f",
   "metadata": {},
   "outputs": [
    {
     "name": "stdout",
     "output_type": "stream",
     "text": [
      "[[58.47, 50.442, 47.84, 45.199999999999996, 42.668, 40.87, 38.802, 36.05800000000001, 30.02, 18.116, 13.02], [80.09, 62.676, 53.512, 49.99, 47.327999999999996, 45.62, 42.776, 34.212, 32.316, 30.92, 28.4]]\n"
     ]
    }
   ],
   "source": [
    "# Limite est une liste contenant les quantile d'ordre n_quantile \n",
    "limite = data_to_limite_quantile(data,10)\n",
    "print(limite)"
   ]
  },
  {
   "cell_type": "code",
   "execution_count": 45,
   "id": "0cb73081",
   "metadata": {},
   "outputs": [],
   "source": [
    "# On va créer un nouveau jeu de données qui contient les quantiles plutôt que les valeurs brut \n",
    "new_data = data_to_quantile(data,limite)\n"
   ]
  },
  {
   "cell_type": "code",
   "execution_count": 46,
   "id": "5b229faa",
   "metadata": {},
   "outputs": [],
   "source": [
    "state0 = [0,0,2,2,200]\n",
    "Q,trajectoire = qlearning3(state0,new_data, 0.05, 0.05,10,data)\n"
   ]
  },
  {
   "cell_type": "code",
   "execution_count": null,
   "id": "f79a2da4",
   "metadata": {},
   "outputs": [],
   "source": [
    "n_action = (int((len(trajectoire[0]) -1)/2))\n",
    "qt = []\n",
    "color = ['b','g','r','c','m','y','k','w']\n",
    "for i in range(n_action):\n",
    "    qt.append([])\n",
    "for k in range(len(trajectoire)):\n",
    "    for i in range(n_action):\n",
    "        qt[i].append(trajectoire[k][i])\n",
    "for i in range(n_action):\n",
    "    plt.plot(qt[i],color[i])"
   ]
  },
  {
   "cell_type": "code",
   "execution_count": null,
   "id": "ccc18265",
   "metadata": {},
   "outputs": [],
   "source": [
    "plt.plot(qt[1],'bo')"
   ]
  },
  {
   "cell_type": "code",
   "execution_count": null,
   "id": "259d918a",
   "metadata": {},
   "outputs": [],
   "source": [
    "budget = []\n",
    "for k in range(len(trajectoire)):\n",
    "    budget.append(trajectoire[k][-1])\n",
    "plt.plot(budget)"
   ]
  },
  {
   "attachments": {},
   "cell_type": "markdown",
   "id": "ece6a991",
   "metadata": {},
   "source": [
    "On peut utiliser l'algorithme avec plus de 2 actions en même temps \n"
   ]
  },
  {
   "attachments": {},
   "cell_type": "markdown",
   "id": "3060ffad",
   "metadata": {},
   "source": [
    "On observe que notre algorithme à une forte tendance à se bloquer dans un êtat, cela peut être du au fait que les évolutions entre deux instants \n",
    "sont négligeable par rapport au variation au cours du temps. \n",
    "On va donc calculer une tendance linéaire et la retirer des données pour ne garder que des tendances pas à pas qui devrait plus varier entre 2 pas "
   ]
  },
  {
   "cell_type": "code",
   "execution_count": 51,
   "id": "fab5e59c",
   "metadata": {},
   "outputs": [
    {
     "data": {
      "text/plain": [
       "[<matplotlib.lines.Line2D at 0x2dc25a55160>,\n",
       " <matplotlib.lines.Line2D at 0x2dc25a55220>,\n",
       " <matplotlib.lines.Line2D at 0x2dc25a552e0>]"
      ]
     },
     "execution_count": 51,
     "metadata": {},
     "output_type": "execute_result"
    },
    {
     "data": {
      "image/png": "[encoded data removed]",
      "text/plain": [
       "<Figure size 432x288 with 1 Axes>"
      ]
     },
     "metadata": {
      "needs_background": "light"
     },
     "output_type": "display_data"
    }
   ],
   "source": [
    "# On observe une croissance linéaire nottament sur la courbe orange, il est donc cohérent de chercher à retirer cette tendance \n",
    "plt.plot(data)\n"
   ]
  },
  {
   "cell_type": "code",
   "execution_count": 59,
   "id": "a1debe41",
   "metadata": {},
   "outputs": [],
   "source": [
    "from sklearn.linear_model import LinearRegression"
   ]
  },
  {
   "cell_type": "code",
   "execution_count": 60,
   "id": "620020ae",
   "metadata": {},
   "outputs": [],
   "source": [
    "modele1 = LinearRegression(fit_intercept=True)\n",
    "modele2 = LinearRegression(fit_intercept=True)\n"
   ]
  },
  {
   "cell_type": "code",
   "execution_count": 61,
   "id": "70ca0e96",
   "metadata": {},
   "outputs": [],
   "source": [
    "x = [*range(len(data))]"
   ]
  },
  {
   "cell_type": "code",
   "execution_count": 62,
   "id": "cbbd017d",
   "metadata": {},
   "outputs": [],
   "source": [
    "data1 = []\n",
    "data2 = []\n",
    "for i in range(len(data)):\n",
    "    data1.append(data[i][0])\n",
    "    data2.append(data[i][1])"
   ]
  },
  {
   "cell_type": "code",
   "execution_count": 64,
   "id": "9fe8df7b",
   "metadata": {},
   "outputs": [
    {
     "data": {
      "text/html": [
       "<style>#sk-container-id-1 {color: black;background-color: white;}#sk-container-id-1 pre{padding: 0;}#sk-container-id-1 div.sk-toggleable {background-color: white;}#sk-container-id-1 label.sk-toggleable__label {cursor: pointer;display: block;width: 100%;margin-bottom: 0;padding: 0.3em;box-sizing: border-box;text-align: center;}#sk-container-id-1 label.sk-toggleable__label-arrow:before {content: \"▸\";float: left;margin-right: 0.25em;color: #696969;}#sk-container-id-1 label.sk-toggleable__label-arrow:hover:before {color: black;}#sk-container-id-1 div.sk-estimator:hover label.sk-toggleable__label-arrow:before {color: black;}#sk-container-id-1 div.sk-toggleable__content {max-height: 0;max-width: 0;overflow: hidden;text-align: left;background-color: #f0f8ff;}#sk-container-id-1 div.sk-toggleable__content pre {margin: 0.2em;color: black;border-radius: 0.25em;background-color: #f0f8ff;}#sk-container-id-1 input.sk-toggleable__control:checked~div.sk-toggleable__content {max-height: 200px;max-width: 100%;overflow: auto;}#sk-container-id-1 input.sk-toggleable__control:checked~label.sk-toggleable__label-arrow:before {content: \"▾\";}#sk-container-id-1 div.sk-estimator input.sk-toggleable__control:checked~label.sk-toggleable__label {background-color: #d4ebff;}#sk-container-id-1 div.sk-label input.sk-toggleable__control:checked~label.sk-toggleable__label {background-color: #d4ebff;}#sk-container-id-1 input.sk-hidden--visually {border: 0;clip: rect(1px 1px 1px 1px);clip: rect(1px, 1px, 1px, 1px);height: 1px;margin: -1px;overflow: hidden;padding: 0;position: absolute;width: 1px;}#sk-container-id-1 div.sk-estimator {font-family: monospace;background-color: #f0f8ff;border: 1px dotted black;border-radius: 0.25em;box-sizing: border-box;margin-bottom: 0.5em;}#sk-container-id-1 div.sk-estimator:hover {background-color: #d4ebff;}#sk-container-id-1 div.sk-parallel-item::after {content: \"\";width: 100%;border-bottom: 1px solid gray;flex-grow: 1;}#sk-container-id-1 div.sk-label:hover label.sk-toggleable__label {background-color: #d4ebff;}#sk-container-id-1 div.sk-serial::before {content: \"\";position: absolute;border-left: 1px solid gray;box-sizing: border-box;top: 0;bottom: 0;left: 50%;z-index: 0;}#sk-container-id-1 div.sk-serial {display: flex;flex-direction: column;align-items: center;background-color: white;padding-right: 0.2em;padding-left: 0.2em;position: relative;}#sk-container-id-1 div.sk-item {position: relative;z-index: 1;}#sk-container-id-1 div.sk-parallel {display: flex;align-items: stretch;justify-content: center;background-color: white;position: relative;}#sk-container-id-1 div.sk-item::before, #sk-container-id-1 div.sk-parallel-item::before {content: \"\";position: absolute;border-left: 1px solid gray;box-sizing: border-box;top: 0;bottom: 0;left: 50%;z-index: -1;}#sk-container-id-1 div.sk-parallel-item {display: flex;flex-direction: column;z-index: 1;position: relative;background-color: white;}#sk-container-id-1 div.sk-parallel-item:first-child::after {align-self: flex-end;width: 50%;}#sk-container-id-1 div.sk-parallel-item:last-child::after {align-self: flex-start;width: 50%;}#sk-container-id-1 div.sk-parallel-item:only-child::after {width: 0;}#sk-container-id-1 div.sk-dashed-wrapped {border: 1px dashed gray;margin: 0 0.4em 0.5em 0.4em;box-sizing: border-box;padding-bottom: 0.4em;background-color: white;}#sk-container-id-1 div.sk-label label {font-family: monospace;font-weight: bold;display: inline-block;line-height: 1.2em;}#sk-container-id-1 div.sk-label-container {text-align: center;}#sk-container-id-1 div.sk-container {/* jupyter's `normalize.less` sets `[hidden] { display: none; }` but bootstrap.min.css set `[hidden] { display: none !important; }` so we also need the `!important` here to be able to override the default hidden behavior on the sphinx rendered scikit-learn.org. See: https://github.com/scikit-learn/scikit-learn/issues/21755 */display: inline-block !important;position: relative;}#sk-container-id-1 div.sk-text-repr-fallback {display: none;}</style><div id=\"sk-container-id-1\" class=\"sk-top-container\"><div class=\"sk-text-repr-fallback\"><pre>LinearRegression()</pre><b>In a Jupyter environment, please rerun this cell to show the HTML representation or trust the notebook. <br />On GitHub, the HTML representation is unable to render, please try loading this page with nbviewer.org.</b></div><div class=\"sk-container\" hidden><div class=\"sk-item\"><div class=\"sk-estimator sk-toggleable\"><input class=\"sk-toggleable__control sk-hidden--visually\" id=\"sk-estimator-id-1\" type=\"checkbox\" checked><label for=\"sk-estimator-id-1\" class=\"sk-toggleable__label sk-toggleable__label-arrow\">LinearRegression</label><div class=\"sk-toggleable__content\"><pre>LinearRegression()</pre></div></div></div></div></div>"
      ],
      "text/plain": [
       "LinearRegression()"
      ]
     },
     "execution_count": 64,
     "metadata": {},
     "output_type": "execute_result"
    }
   ],
   "source": [
    "#On utilise une régréssion linéaire sur chaque jeux d'actions pour calculer la tendance linéaire au cours du temps\n",
    "modele1 = LinearRegression(fit_intercept=True)\n",
    "modele2 = LinearRegression(fit_intercept=True)\n",
    "df1 = pd.DataFrame (data1, columns = ['data1'])\n",
    "df2 = pd.DataFrame (data1, columns = ['data1'])\n",
    "dfx = pd.DataFrame(x,columns = [\"x\"]) \n",
    "modele1.fit(X = dfx, y = df1)\n",
    "modele2.fit(X = dfx, y = df2)"
   ]
  },
  {
   "cell_type": "code",
   "execution_count": 66,
   "id": "77896966",
   "metadata": {},
   "outputs": [],
   "source": [
    "pred1 = modele1.predict(dfx)\n",
    "pred2 = modele1.predict(dfx)"
   ]
  },
  {
   "cell_type": "code",
   "execution_count": 67,
   "id": "786ed6ea",
   "metadata": {},
   "outputs": [],
   "source": [
    "# On enlève la tendance linéaire aux données de base\n",
    "data_regressed = []\n",
    "for k in range(len(data1)):\n",
    "    data_regressed.append([(data1[k] - pred1[k]).item(),(data2[k] - pred2[k]).item()])"
   ]
  },
  {
   "cell_type": "code",
   "execution_count": 68,
   "id": "0e636bc6",
   "metadata": {},
   "outputs": [
    {
     "name": "stdout",
     "output_type": "stream",
     "text": [
      "[[20.320580650131376, 10.93450223971718, 5.927163862787374, 3.7033219210480057, 1.5327597735074951, 0.08048418390390566, -2.0870121670081843, -4.860594184371126, -7.713240226492505, -9.46035363751855, -18.02318589049599], [27.990176645129857, 13.463611488287132, 10.322036023966378, 8.506212138040283, 7.233770080985532, 6.145671139893601, 4.834886417035443, 3.504118062398908, 2.3828255279967423, 0.22137316346395694, -2.62128005041572]]\n"
     ]
    }
   ],
   "source": [
    "# On va maintenant passer les données en quantile pour être utilisable par notre algorithme \n",
    "# On utilise la fonction data to limite définit précédement\n",
    "limite = data_to_limite_quantile(data_regressed,10)\n",
    "\n",
    "print(limite)"
   ]
  },
  {
   "cell_type": "code",
   "execution_count": 69,
   "id": "cb0e7be0",
   "metadata": {},
   "outputs": [],
   "source": [
    "def data_to_quantile_regressed(data,limite_quantile):\n",
    "    n_quantile = len(limite_quantile[0]) - 1\n",
    "    new_data = []\n",
    "    for j in range(len(data)):\n",
    "        new_data.append([])\n",
    "        for i in range(len(data[0])):\n",
    "            new_data[j].append(-10)\n",
    "    for k in range(len(data)):\n",
    "        quantile = 0\n",
    "        quantiles = []\n",
    "        dk = data[k]\n",
    "        for j in range(len(dk)):\n",
    "            d = dk[j]\n",
    "            for i in range(n_quantile - 1):\n",
    "                if d <= limite_quantile[j][i] and d >= limite_quantile[j][i +1]:\n",
    "                    quantile = n_quantile - i\n",
    "            quantiles.append(quantile)\n",
    "        new_data[k] = quantiles\n",
    "    return(new_data)"
   ]
  },
  {
   "cell_type": "code",
   "execution_count": 70,
   "id": "4433fcec",
   "metadata": {},
   "outputs": [
    {
     "name": "stdout",
     "output_type": "stream",
     "text": [
      "[[0, 8], [0, 8], [0, 8], [0, 8], [0, 8], [0, 8], [0, 8], [0, 7], [0, 7], [0, 7], [0, 7], [0, 7], [0, 7], [0, 8], [0, 8], [0, 8], [0, 8], [0, 8], [0, 8], [0, 8], [0, 8], [0, 8], [2, 8], [2, 8], [2, 7], [2, 7], [2, 7], [2, 7], [2, 7], [2, 7], [2, 7], [2, 7], [2, 7], [2, 7], [2, 7], [0, 7], [0, 6], [0, 6], [0, 6], [0, 7], [0, 7], [0, 7], [2, 7], [2, 7], [0, 6], [2, 7], [2, 7], [2, 6], [0, 6], [0, 6], [2, 5], [2, 5], [2, 5], [2, 6], [2, 6], [2, 7], [2, 7], [2, 7], [2, 7], [2, 6], [2, 6], [2, 7], [2, 7], [2, 7], [2, 6], [2, 6], [3, 6], [3, 7], [3, 7], [3, 7], [2, 6], [2, 7], [2, 6], [2, 7], [2, 7], [2, 6], [2, 5], [2, 5], [2, 6], [2, 6], [2, 5], [0, 5], [2, 5], [2, 5], [2, 5], [0, 5], [2, 4], [0, 4], [0, 4], [2, 4], [2, 4], [0, 4], [0, 4], [0, 4], [0, 5], [0, 4], [0, 4], [0, 4], [0, 4], [0, 3], [0, 3], [0, 3], [0, 4], [2, 4], [0, 4], [2, 4], [2, 4], [2, 4], [2, 4], [2, 4], [2, 4], [2, 3], [2, 3], [2, 3], [2, 3], [2, 3], [2, 3], [2, 3], [2, 3], [2, 3], [2, 3], [2, 4], [2, 4], [2, 4], [2, 4], [2, 4], [2, 4], [2, 3], [0, 3], [0, 3], [0, 3], [0, 3], [0, 3], [0, 3], [0, 2], [0, 2], [0, 3], [0, 2], [0, 2], [0, 2], [0, 2], [0, 2], [0, 2], [0, 2], [0, 3], [0, 3], [0, 3], [0, 3], [0, 4], [0, 3], [0, 3], [0, 4], [2, 4], [2, 4], [2, 4], [2, 4], [2, 4], [2, 4], [2, 3], [2, 4], [2, 3], [2, 3], [2, 4], [2, 4], [3, 3], [3, 4], [2, 4], [2, 3], [2, 3], [2, 4], [3, 4], [3, 4], [2, 4], [3, 4], [3, 4], [3, 5], [3, 4], [3, 4], [3, 4], [3, 4], [3, 4], [3, 3], [3, 3], [3, 4], [3, 3], [3, 3], [3, 3], [3, 3], [3, 3], [3, 2], [3, 3], [3, 3], [3, 3], [3, 3], [3, 3], [3, 3], [4, 3], [4, 3], [4, 3], [3, 3], [4, 3], [4, 2], [3, 3], [3, 2], [3, 2], [3, 2], [3, 2], [3, 2], [3, 2], [3, 3], [4, 3], [4, 2], [4, 2], [4, 2], [4, 2], [4, 3], [4, 2], [4, 3], [4, 3], [4, 3], [4, 3], [4, 3], [4, 3], [4, 3], [4, 3], [4, 3], [4, 3], [4, 3], [4, 3], [4, 3], [5, 2], [5, 2], [5, 3], [5, 2], [5, 2], [5, 2], [5, 2], [6, 2], [6, 2], [6, 2], [7, 2], [6, 2], [6, 2], [7, 2], [7, 2], [8, 2], [7, 2], [8, 2], [8, 2], [8, 8], [8, 8], [8, 2], [8, 2], [8, 8], [8, 8], [8, 8], [8, 8], [8, 8], [8, 8], [8, 8], [8, 8], [9, 9], [9, 9], [9, 9], [9, 2], [9, 2], [8, 2], [9, 2], [9, 2], [9, 2], [9, 9], [9, 9], [9, 9], [9, 9], [9, 9], [8, 8], [9, 9], [9, 9], [9, 9], [8, 8], [8, 8], [9, 9], [9, 9], [9, 9], [8, 8], [8, 8], [8, 8], [9, 9], [9, 9], [9, 9], [8, 8], [8, 8], [8, 8], [8, 8], [8, 8], [7, 7], [7, 7], [7, 7], [8, 8], [8, 8], [8, 8], [8, 8], [8, 8], [9, 9], [8, 8], [8, 8], [8, 8], [8, 8], [8, 8], [8, 8], [8, 8], [8, 8], [8, 8], [9, 9], [9, 9], [9, 9], [9, 9], [9, 9], [9, 9], [9, 9], [9, 9], [9, 9], [9, 9], [9, 9], [9, 9], [9, 9], [9, 9], [9, 9], [9, 9], [9, 9], [9, 9], [10, 10], [9, 9], [10, 10], [10, 10], [10, 2], [9, 9], [9, 9], [9, 9], [9, 9], [9, 2], [9, 2], [10, 2], [10, 2], [10, 2], [10, 2], [10, 2], [10, 10], [10, 10], [9, 9], [10, 2], [9, 2], [9, 2], [9, 2], [9, 9], [9, 9], [9, 9], [9, 9], [9, 2], [10, 10], [10, 10], [9, 9], [9, 9], [9, 2], [9, 2], [9, 2], [9, 2], [9, 9], [9, 2], [9, 2], [9, 2], [9, 9], [9, 9], [8, 2], [8, 8], [8, 8], [8, 8], [8, 8], [8, 8], [8, 8], [8, 8], [9, 9], [9, 2], [9, 2], [9, 2], [9, 2], [9, 2], [9, 2], [9, 2], [9, 2], [8, 2], [9, 2], [8, 2], [9, 2], [9, 3], [8, 2], [8, 3], [8, 3], [8, 3], [8, 3], [8, 3], [8, 3], [7, 3], [8, 3], [8, 3], [8, 3], [7, 4], [7, 3], [7, 2], [7, 3], [7, 3], [7, 3], [6, 3], [7, 3], [6, 3], [6, 3], [7, 4], [6, 4], [6, 3], [5, 4], [5, 3], [4, 3], [3, 2], [4, 2], [4, 2], [5, 2], [5, 2], [6, 2], [8, 2], [7, 2], [8, 2], [8, 3], [8, 3], [9, 3], [8, 3], [9, 3], [9, 3], [9, 4], [9, 5], [9, 5], [9, 5], [9, 5], [9, 5], [9, 8], [9, 7], [9, 8], [9, 8], [9, 8], [9, 8], [9, 8], [9, 8], [9, 8], [9, 8], [9, 8], [9, 8], [10, 9], [10, 8], [10, 8], [10, 8], [10, 8], [10, 8], [10, 8], [10, 8], [10, 7], [10, 7], [10, 6], [10, 6], [10, 5], [10, 6], [10, 7], [10, 8], [10, 7], [10, 7], [10, 8], [10, 8], [10, 8], [10, 7], [10, 7], [10, 7], [10, 7], [10, 7], [10, 7], [10, 8], [10, 8], [10, 7], [10, 7], [10, 7], [10, 7], [10, 8], [10, 7], [10, 8], [10, 8], [10, 8], [10, 8], [10, 7], [10, 7], [10, 7], [10, 7], [10, 7], [10, 7], [10, 7], [10, 7], [10, 7], [9, 7], [10, 7], [10, 8], [10, 8], [10, 8], [10, 9], [10, 8], [10, 8], [10, 8], [10, 8], [10, 8], [10, 8], [10, 9], [10, 8], [10, 9], [10, 9], [10, 8], [10, 9], [10, 8], [10, 8], [9, 8], [10, 8], [10, 9], [10, 9], [10, 9], [10, 9], [10, 9], [10, 9], [10, 9], [10, 9], [10, 9], [10, 8], [10, 8], [10, 8], [10, 9], [10, 8], [10, 8], [10, 8], [10, 8], [10, 8], [10, 8], [10, 8], [10, 9], [10, 8], [9, 8], [10, 9], [10, 9], [10, 8], [10, 9], [10, 9], [10, 8], [10, 8], [10, 9], [10, 8], [10, 8], [10, 7], [10, 7], [10, 7], [10, 8], [9, 8], [9, 7], [10, 8], [10, 8], [10, 8], [10, 8], [10, 8], [10, 8], [10, 8], [10, 8], [9, 8], [8, 8], [8, 9], [8, 9], [8, 9], [8, 9], [8, 9], [8, 9], [9, 9], [9, 9], [8, 9], [8, 9], [8, 9], [7, 9], [7, 9], [7, 9], [7, 9], [7, 9], [7, 9], [7, 9], [7, 9], [7, 9], [8, 9], [8, 9], [8, 9], [8, 9], [8, 10], [8, 9], [7, 8], [7, 9], [6, 9], [6, 9], [7, 9], [7, 8], [6, 8], [7, 8], [7, 8], [8, 8], [8, 8], [7, 8], [7, 8], [7, 8], [7, 9], [7, 9], [7, 9], [8, 9], [6, 9], [7, 9], [7, 9], [7, 8], [7, 8], [7, 9], [7, 8], [8, 9], [8, 8], [8, 8], [7, 8], [7, 8], [8, 8], [8, 8], [8, 8], [8, 8], [8, 8], [8, 8], [8, 8], [7, 7], [6, 6], [5, 5], [5, 4], [6, 5], [6, 6], [5, 6], [6, 5], [6, 5], [7, 6], [7, 5], [7, 5], [7, 5], [7, 5], [7, 5], [7, 5], [7, 5], [7, 5], [8, 5], [8, 6], [8, 5], [8, 5], [7, 5], [7, 5], [6, 4], [6, 3], [5, 2], [5, 2], [5, 2], [5, 2], [5, 4], [6, 4], [5, 2], [5, 3], [6, 4], [7, 3], [8, 3], [8, 3], [8, 3], [8, 4], [8, 4], [8, 4], [8, 4], [8, 2], [9, 2], [9, 3], [9, 3], [9, 3], [9, 4], [9, 4], [9, 3], [9, 4], [9, 6], [8, 6], [8, 5], [8, 6], [8, 5], [8, 5], [8, 5], [8, 4], [7, 5], [7, 5], [7, 5], [7, 6], [7, 6], [7, 7], [7, 6], [6, 6], [6, 6], [7, 6], [6, 6], [7, 6], [7, 6], [7, 5], [8, 6], [8, 5], [8, 5], [7, 5], [8, 5], [7, 5], [6, 6], [7, 6], [7, 6], [7, 6], [6, 6], [7, 6], [7, 7], [7, 7], [7, 7], [7, 7], [7, 7], [7, 7], [7, 7], [6, 6], [5, 7], [6, 7], [5, 5], [5, 5], [6, 4], [6, 4], [5, 3], [5, 3], [5, 3], [5, 2], [5, 3], [5, 2], [5, 3], [5, 2], [5, 3], [5, 2], [4, 2], [5, 2], [5, 2], [4, 2], [4, 2], [4, 2], [4, 4], [3, 3], [3, 3], [4, 4], [4, 4], [4, 4], [4, 4], [5, 2], [5, 2], [5, 2], [5, 2], [5, 2], [5, 2], [5, 2], [5, 2], [5, 5], [6, 2], [6, 6], [6, 6], [5, 5], [6, 6], [5, 5], [5, 5], [5, 5], [6, 6], [6, 6], [6, 6], [6, 6], [6, 6], [7, 7], [7, 7], [6, 2], [6, 2], [5, 2], [5, 2], [5, 2], [5, 2], [5, 3], [4, 3], [4, 4], [4, 4], [4, 5], [4, 5], [4, 5], [4, 4], [4, 5], [4, 5], [5, 5], [5, 5], [5, 6], [5, 6], [5, 6], [4, 6], [4, 6], [3, 5], [3, 5], [3, 5], [3, 4], [2, 4], [2, 5], [2, 5], [2, 4], [0, 5], [0, 4], [0, 5], [2, 4], [0, 3], [0, 4], [0, 4], [0, 4], [0, 4], [0, 4], [0, 4], [0, 4], [0, 4], [0, 4], [0, 4], [0, 4], [0, 4], [0, 4], [0, 5], [0, 5], [0, 5], [0, 5], [0, 5], [0, 5], [0, 5], [0, 4], [0, 3], [0, 4], [0, 4], [0, 4], [0, 3], [0, 4], [0, 4], [0, 4], [0, 4], [0, 3], [0, 2], [0, 3], [0, 4], [0, 4], [0, 4], [0, 4], [0, 4], [0, 4], [0, 5], [0, 4], [2, 5], [2, 5], [3, 6], [3, 5], [3, 5], [3, 5], [2, 6], [2, 6], [3, 6], [2, 6], [3, 6], [3, 5], [3, 6], [2, 6], [2, 6], [0, 5], [0, 7], [0, 7], [0, 6], [0, 6], [2, 6], [0, 7], [2, 7], [2, 7], [2, 7], [3, 7], [3, 7], [3, 7], [3, 7], [2, 6], [2, 6], [3, 6], [3, 6], [2, 6], [2, 6], [3, 6], [2, 6], [2, 6], [2, 6], [3, 6], [3, 7], [3, 6], [3, 5], [3, 6], [3, 5], [2, 5], [2, 6], [2, 5], [2, 5], [2, 5], [0, 6], [2, 6], [2, 6], [0, 6], [2, 6], [2, 6], [2, 6], [2, 7], [3, 7], [3, 7], [3, 7], [3, 6], [3, 6], [3, 7], [3, 5], [3, 6], [3, 5], [3, 5], [3, 5], [3, 5], [4, 5], [4, 6], [3, 5], [3, 5], [3, 5], [3, 4], [3, 4], [3, 3], [4, 3], [3, 2], [3, 4], [3, 4], [3, 4], [4, 4], [4, 5], [4, 5], [4, 5], [4, 5], [5, 3], [5, 4], [5, 3], [6, 4], [6, 4], [6, 4], [6, 4], [6, 4], [6, 4], [6, 4], [6, 4], [6, 4], [5, 3], [6, 3], [5, 4], [6, 4], [7, 5], [7, 5], [8, 5], [7, 5], [7, 5], [7, 5], [7, 6], [7, 6], [7, 6], [7, 6], [7, 6], [7, 6], [7, 7], [7, 7], [7, 7], [6, 7], [6, 7], [6, 7], [6, 7], [5, 7], [5, 7], [6, 7], [7, 7], [7, 6], [7, 6], [6, 7], [6, 6], [6, 6], [6, 6], [7, 7], [6, 7], [6, 7], [6, 7], [7, 7], [6, 7], [5, 7], [4, 7], [4, 8], [4, 8], [4, 8], [5, 8], [5, 8], [5, 8], [5, 8], [5, 8], [6, 7], [5, 7], [6, 7], [6, 5], [5, 5], [5, 6], [5, 6], [5, 6], [5, 6], [5, 6], [5, 6], [5, 6], [5, 6], [5, 6], [5, 5], [4, 5], [4, 5], [4, 6], [4, 5], [4, 6], [3, 6], [3, 6], [3, 6], [3, 6], [3, 6], [3, 5], [3, 6], [3, 6], [3, 6], [3, 6], [3, 6], [3, 6], [3, 5], [3, 5], [3, 5], [3, 5], [3, 5], [3, 5], [3, 5], [3, 5], [4, 5], [4, 5], [4, 5], [4, 5], [4, 5], [4, 5], [4, 6], [4, 6], [5, 6], [5, 7], [5, 7], [4, 8], [3, 7], [3, 7], [4, 7], [4, 7], [4, 9], [4, 9], [4, 9], [5, 9], [5, 9], [5, 9], [4, 9], [5, 9], [5, 9], [4, 9], [4, 9], [4, 9], [4, 9], [5, 9], [5, 10], [5, 10], [6, 10], [5, 10], [5, 10], [6, 10], [6, 10], [6, 10], [6, 10], [7, 10], [7, 10], [7, 10], [6, 9], [6, 9], [6, 10], [6, 10], [6, 10], [6, 10], [5, 10], [5, 10], [6, 10], [5, 10], [5, 10], [5, 10], [6, 10], [6, 10], [6, 9], [6, 10], [7, 10], [7, 9], [8, 10], [7, 9], [7, 9], [8, 10], [8, 10], [8, 10], [8, 10], [8, 9], [7, 9], [7, 10], [7, 10], [7, 10], [6, 9], [7, 9], [6, 9], [6, 9], [6, 9], [7, 9], [6, 9], [6, 9], [6, 9], [6, 9], [6, 9], [5, 9], [5, 8], [5, 8], [5, 9], [5, 9], [5, 9], [4, 9], [4, 9], [4, 9], [4, 9], [3, 9], [3, 9], [4, 9], [4, 9], [3, 9], [3, 9], [3, 9], [4, 9], [3, 9], [3, 9], [3, 10], [3, 10], [4, 10], [4, 10], [4, 10], [4, 10], [4, 10], [4, 10], [3, 10], [4, 10], [4, 10], [4, 10], [4, 9], [4, 9], [4, 9], [4, 9], [4, 9], [4, 9], [6, 9], [6, 9], [6, 9], [6, 9], [6, 9], [7, 10], [7, 10], [7, 10], [7, 10], [7, 10], [6, 10], [6, 10], [6, 10], [6, 10], [6, 10], [6, 10], [6, 10], [4, 9], [4, 9], [4, 9], [4, 9], [4, 10], [4, 10], [4, 10], [4, 10], [4, 10], [4, 10], [3, 10], [3, 10], [3, 10], [3, 10], [4, 10], [4, 10], [4, 10], [4, 10], [4, 10], [4, 10], [4, 10], [4, 10], [5, 10], [5, 10], [5, 10], [4, 10], [5, 10], [5, 10], [5, 10], [5, 10], [5, 10], [5, 10], [5, 10], [5, 10], [5, 10], [5, 10], [5, 10], [5, 10], [6, 10], [6, 10], [6, 10], [6, 10], [6, 10], [6, 10], [6, 10], [6, 10], [6, 10], [6, 10], [6, 10], [6, 10], [6, 10], [7, 10], [8, 10], [9, 10], [9, 10], [9, 10], [9, 10], [9, 10], [9, 10], [9, 10], [7, 10], [6, 10], [6, 10], [6, 10], [6, 10], [7, 10], [7, 10], [5, 10], [4, 10], [5, 10], [5, 10]]\n",
      "[[-9.760106987783196, 8.539893012216801], [-10.072178760876866, 8.72782123912313], [-10.284250533970535, 9.185749466029467], [-9.916322307064206, 8.97367769293579], [-10.608394080157874, 8.67160591984213], [-10.120465853251545, 9.359534146748452], [-10.382537626345213, 9.19746237365479], [-11.334609399438884, 8.055390600561115], [-11.316681172532553, 7.87331882746745], [-11.138752945626223, 7.88124705437378], [-11.710824718719891, 7.339175281280109], [-11.492896491813562, 7.287103508186437], [-11.36496826490723, 7.5450317350927705], [-11.367040038000901, 8.652959961999102], [-11.20911181109457, 9.780888188905433], [-10.94118358418824, 9.508816415811761], [-10.813255357281907, 9.426744642718091], [-10.315327130375579, 8.964672869624422], [-10.087398903469246, 9.652601096530756], [-10.009470676562918, 9.160529323437085], [-9.821542449656585, 9.228457550343414], [-9.473614222750257, 8.846385777249743], [-9.085685995843928, 9.004314004156072], [-8.767757768937596, 9.622242231062405], [-9.059829542031267, 8.40017045796873], [-8.771901315124936, 7.778098684875069], [-8.303973088218605, 7.716026911781391], [-7.876044861312273, 8.403955138687724], [-8.128116634405945, 8.341883365594054], [-8.290188407499613, 7.969811592500385], [-8.572260180593283, 7.287739819406717], [-8.68433195368695, 7.315668046313046], [-8.566403726780624, 7.523596273219379], [-8.268475499874292, 8.161524500125708], [-8.59054727296796, 7.3294527270320415], [-9.54261904606163, 7.267380953938368], [-9.774690819155301, 7.2253091808447], [-9.636762592248969, 6.513237407751031], [-9.62883436534264, 6.611165634657361], [-9.530906138436308, 7.549093861563694], [-9.69297791152998, 8.047022088470019], [-9.635049684623647, 7.734950315376352], [-9.247121457717316, 7.722878542282679], [-9.319193230810988, 7.770806769189008], [-9.891265003904657, 6.758734996095345], [-9.133336776998327, 7.706663223001673], [-9.005408550091996, 7.364591449908005], [-9.447480323185665, 6.922519676814332], [-9.549552096279335, 7.140447903720666], [-10.071623869373006, 7.068376130626991], [-9.313695642466673, 6.086304357533326], [-9.185767415560345, 4.984232584439656], [-9.437839188654014, 5.892160811345988], [-9.089910961747684, 6.960089038252317], [-8.891982734841353, 6.958017265158645], [-8.824054507935024, 7.29594549206498], [-9.146126281028689, 7.64387371897131], [-8.82819805412236, 7.5118019458776395], [-8.77026982721603, 7.4197301727839715], [-8.8123416003097, 7.127658399690297], [-8.854413373403368, 7.045586626596634], [-8.51648514649704, 7.4035148535029585], [-8.498556919590708, 7.67144308040929], [-8.140628692684377, 7.279371307315621], [-8.202700465778051, 7.117299534221949], [-7.844772238871716, 7.135227761128281], [-7.15684401196539, 6.82315598803461], [-6.868915785059055, 7.401084214940944], [-7.000987558152726, 7.889012441847271], [-7.4430593312463955, 7.6769406687536055], [-8.105131104340067, 6.9848688956599325], [-8.147202877433735, 7.472797122566263], [-7.909274650527404, 6.740725349472598], [-7.911346423621072, 7.338653576378928], [-8.023418196714744, 8.116581803285253], [-8.335489969808414, 6.784510030191591], [-8.517561742902082, 6.0524382570979185], [-8.639633515995751, 5.790366484004249], [-8.501705289089422, 6.5182947109105775], [-8.603777062183092, 6.146222937816908], [-9.325848835276762, 5.89415116472324], [-9.657920608370429, 5.782079391629569], [-9.2999923814641, 5.1800076185359], [-9.082064154557766, 5.66793584544223], [-9.444135927651438, 5.33586407234856], [-9.506207700745112, 5.143792299254891], [-9.398279473838777, 4.761720526161223], [-9.50035124693245, 4.369648753067551], [-9.502423020026118, 4.507576979973884], [-9.25449479311979, 4.705505206880211], [-9.436566566213457, 4.503433433786544], [-9.788638339307127, 3.671361660692874], [-10.200710112400795, 4.059289887599206], [-10.432781885494467, 3.8172181145055326], [-10.124853658588133, 4.905146341411864], [-10.436925431681804, 4.3630745683181935], [-10.318997204775474, 4.241002795224528], [-10.231068977869143, 4.238931022130856], [-9.873140750962811, 3.9368592490371874], [-10.265212524056484, 3.004787475943516], [-9.967284297150151, 2.56271570284985], [-9.899356070243822, 3.4306439297561795], [-9.821427843337489, 4.178572156662511], [-9.423499616431162, 4.196500383568839], [-9.635571389524827, 4.23442861047517], [-9.4576431626185, 4.092356837381502], [-9.289714935712173, 4.50028506428783], [-9.111786708805838, 4.708213291194159], [-8.943858481899507, 4.266141518100493], [-8.465930254993179, 4.07406974500682], [-8.518002028086848, 3.881997971913151], [-8.730073801180517, 3.2799261988194814], [-8.83214557427419, 3.2878544257258113], [-8.954217347367855, 3.0557826526321428], [-8.526289120461527, 2.8737108795384714], [-8.218360893555197, 3.4716391064448047], [-7.980432666648866, 3.3595673333511336], [-7.862504439742533, 2.997495560257466], [-7.914576212836206, 2.925423787163794], [-7.786647985929871, 2.673352014070126], [-7.778719759023545, 3.001280240976456], [-8.26079153211721, 3.7592084678827895], [-8.032863305210881, 4.047136694789117], [-8.304935078304549, 3.9050649216954483], [-8.377006851398221, 3.9929931486017765], [-8.28907862449189, 3.9709213755081088], [-8.69115039758556, 3.618849602414439], [-8.493222170679232, 3.016777829320766], [-10.9752939437729, 3.1147060562270994], [-11.187365716866566, 2.782634283133433], [-11.659437489960238, 2.6405625100397607], [-11.391509263053909, 2.59849073694609], [-11.783581036147577, 2.446418963852423], [-11.645652809241248, 2.7843471907587514], [-11.657724582334916, 2.3822754176650847], [-11.219796355428588, 2.380203644571413], [-11.351868128522256, 2.6881318714777436], [-11.323939901615926, 2.2660600983840737], [-12.086011674709594, 1.6439883252904046], [-12.238083447803266, 1.9919165521967344], [-11.640155220896933, 1.8698447791030652], [-11.462226993990605, 1.5277730060093937], [-11.254298767084272, 1.7857012329157271], [-10.856370540177945, 2.0236294598220574], [-10.698442313271613, 2.6415576867283868], [-10.910514086365282, 2.8994859136347166], [-10.262585859458952, 2.8574141405410494], [-9.63465763255262, 3.1953423674473775], [-10.056729405646294, 3.5532705943537053], [-10.168801178739962, 3.2811988212600376], [-9.950872951833627, 3.2291270481663723], [-9.7729447249273, 4.007055275072702], [-9.145016498020972, 4.514983501979032], [-9.207088271114639, 4.83291172888536], [-8.939160044208311, 4.600839955791688], [-9.041231817301977, 4.25876818269802], [-9.09330359039565, 3.6266964096043495], [-8.985375363489318, 3.504624636510684], [-8.817447136582988, 3.062552863417011], [-8.549518909676657, 3.560481090323343], [-8.961590682770328, 3.108409317229672], [-9.103662455863994, 3.0563375441360066], [-8.395734228957664, 3.6942657710423354], [-8.267806002051334, 3.8921939979486666], [-7.649877775145004, 3.350122224854996], [-7.621949548238671, 3.898050451761325], [-7.784021321332343, 3.755978678667656], [-8.176093094426012, 3.33390690557399], [-8.158164867519684, 3.211835132480317], [-7.740236640613354, 4.119763359386646], [-7.542308413707023, 4.137691586292977], [-7.704380186800691, 4.00561981319931], [-7.8064519598943605, 3.76354804010564], [-7.708523732988031, 4.561476267011969], [-7.350595506081699, 4.679404493918302], [-7.23266727917537, 4.847332720824628], [-7.1747390522690395, 4.375260947730965], [-6.46681082536271, 4.093189174637288], [-7.038882598456379, 4.161117401543624], [-5.790954371550047, 4.279045628449953], [-6.333026144643718, 3.9869738553562826], [-6.495097917737386, 3.474902082262613], [-6.157169690831054, 3.502830309168946], [-5.969241463924728, 3.5107585360752758], [-6.601313237018395, 3.088686762981606], [-6.153385010112064, 3.2466149898879344], [-5.905456783205732, 3.3145432167942666], [-5.957528556299405, 3.052471443700597], [-6.2596003293930735, 2.6103996706069275], [-6.601672102486745, 2.3583278975132558], [-5.493743875580414, 2.8862561244195852], [-5.455815648674083, 3.0441843513259172], [-5.2278874217677505, 3.09211257823225], [-5.459959194861423, 2.9500408051385776], [-5.132030967955092, 2.887969032044907], [-4.92410274104876, 2.9958972589512385], [-4.436174514142429, 2.783825485857573], [-4.628246287236099, 2.5617537127639025], [-4.820318060329772, 2.4896819396702305], [-4.91238983342344, 2.67761016657656], [-4.65446160651711, 2.43553839348289], [-4.706533379610779, 2.343466620389222], [-5.15860515270445, 2.4513948472955533], [-5.010676925798116, 2.289323074201885], [-5.532748698891787, 2.1372513011082113], [-5.994820471985456, 2.1151795280145436], [-6.666892245079126, 2.0331077549208736], [-7.208964018172793, 2.131035981827207], [-6.751035791266464, 2.338964208733536], [-6.573107564360132, 2.416892435639866], [-4.545179337453803, 2.604820662546196], [-4.287251110547476, 2.192748889452524], [-3.1993228836411447, 1.9006771163588567], [-3.7613946567348115, 1.9586053432651909], [-3.0034664298284817, 2.346533570171516], [-2.645538202922154, 2.7444617970778467], [-3.1776099760158196, 2.3623900239841795], [-3.0696817491094883, 2.870318250890513], [-3.201753522203159, 2.9882464777968423], [-3.013825295296833, 3.0361747047031713], [-3.1858970683904992, 3.0041029316094985], [-3.13796884148417, 2.9820311585158272], [-3.280040614577839, 3.1799593854221655], [-4.492112387671508, 3.2378876123284925], [-4.674184160765176, 3.215815839234825], [-4.226255933858848, 3.2137440661411496], [-4.138327706952516, 2.8616722930474836], [-2.980399480046188, 2.52960051995381], [-2.5124712531398536, 2.4375287468601456], [-2.659543026233525, 2.5354569737664754], [-1.9566147993271947, 2.1533852006728047], [-0.18868657242086329, 2.351313427579136], [-0.2807583455145348, 2.909241654485463], [-1.0028301186082054, 2.127169881391797], [-0.8049018917018707, 2.1750981082981298], [-0.856973664795543, 2.113026335204456], [-0.3790454378892143, 2.280954562110786], [0.2788827890171177, 1.9888827890171186], [0.8968110159234506, 1.50681101592345], [1.4147392428297785, 1.67473924282978], [1.5426674697361094, 1.9326674697361064], [0.5705956966424388, 1.630595696642441], [0.3285239235487687, 1.5085239235487684], [2.086452150455102, 1.5664521504551026], [3.084380377361427, 0.8843803773614312], [3.8823086042677595, 0.752308604267764], [3.6102368311740882, 0.4202368311740905], [3.998165058080424, 0.40816505808042436], [4.066093284986749, 0.24609328498675254], [3.7940215118930816, 0.12402151189308341], [4.63194973879941, 0.021949738799413865], [5.619877965705747, 0.6498779657057447], [5.5078061926120725, 1.0678061926120748], [5.0357344195184055, -0.964265580481598], [4.573662646424733, -0.11633735357526476], [4.886590873331066, -0.46840912666893075], [4.249519100237393, -0.2804808997626047], [4.127447327143727, 0.0874473271437246], [4.385375554050061, -0.45462444594994267], [5.433303780956386, -0.2566962190436115], [5.92123200786272, -0.6387679921372822], [6.379160234769046, -0.5708397652309536], [6.707088461675379, -0.16291153832462157], [6.435016688581708, 0.08501668858170675], [6.222944915488043, 0.38294491548803933], [6.570873142394369, 0.6608731423943688], [5.718801369300703, 0.6088013693007], [6.936729596207034, 0.4867295962070308], [7.434657823113362, 0.2946578231133614], [8.362586050019694, 0.33258605001969244], [8.550514276926027, 0.11051427692602189], [8.468442503832353, -0.14155749616764624], [7.566370730738683, -0.23362926926131422], [7.024198957645012, -0.8357010423549873], [6.182227184551344, -1.3077728154486579], [5.760155411457678, -1.1598445885423239], [7.09808363836401, -1.2219163616359943], [6.726011865270337, -1.3439881347296634], [6.4339400921766625, -0.7360599078233356], [5.891868319082999, -0.5781316809170036], [5.419796545989328, -1.4302034540106696], [6.087724772895655, -1.5722752271043419], [7.165652999801985, -1.4743470001980121], [5.9435812267083215, -1.5464187732916805], [4.9915094536146505, -1.478490546385352], [4.58943768052098, -1.7905623194790188], [5.77736590742731, -1.8826340925726903], [7.095294134333638, -1.4947058656663579], [6.84322236123997, -1.2467776387600296], [6.451150588146305, -1.2688494118536973], [5.649078815052633, -1.5909211849473692], [4.847007041958964, -1.9329929580410372], [5.024935268865288, -1.8050647311347099], [5.922863495771622, -1.9171365042283774], [4.290791722677952, -2.139208277322048], [2.658619949584285, -2.62128005041572], [2.326648176490611, -2.563351823509386], [2.654576403396945, -2.5154235966030534], [4.422504630303273, -2.557495369696724], [4.290432857209602, -2.509567142790395], [4.538361084115937, -2.101638915884063], [5.006289311022265, -1.2637106889777314], [5.9142175379286, -1.8577824620714019], [6.0621457648349235, -1.307854235165074], [4.780073991741258, -1.059926008258742], [3.918002218647583, -0.8419977813524149], [4.245930445553917, -0.73406955444608], [3.783858672460248, -1.0261413275397508], [5.0817868993665805, -0.9982131006334214], [5.159715126272911, -0.6902848737270908], [5.247643353179242, -0.8223566468207579], [5.295571580085571, -0.48442841991442975], [5.823499806991901, -0.7465001930080994], [6.831428033898231, -0.9385719661017689], [6.819356260804561, -0.9006437391954378], [7.927284487710892, -0.6527155122891095], [7.825212714617223, -0.7547872853827791], [7.333140941523556, -0.8668590584764466], [6.661069168429883, -1.068930831570114], [6.973997395336212, -0.9510026046637847], [6.996925622242543, -1.1130743777574565], [6.644853849148877, -1.315146150851124], [6.7027820760552075, -1.197217923944791], [7.080710302961535, -1.3092896970384658], [7.448638529867864, -1.1313614701321342], [7.666566756774198, -0.9834332432258037], [8.094494983680523, -1.2255050163194738], [8.092423210586858, -1.007576789413143], [8.410351437493183, -1.049648562506814], [9.448279664399518, -0.8517203356004792], [9.646207891305846, -0.5437921086941522], [11.00413611821218, -0.4458638817878189], [10.572064345118505, -0.2279356548814917], [12.019992572024844, -0.1200074279751604], [11.707920798931173, 0.12792079893116792], [11.755849025837499, 0.5958490258375022], [10.36377725274383, 0.20377725274383351], [8.251705479650163, 0.04170547965015814], [8.409633706556495, 0.14963370655648944], [9.067561933462827, 0.13756193346282686], [9.85549016036915, 0.7954901603691553], [10.623418387275478, 0.8534183872754824], [11.001346614181813, 0.4913466141818077], [12.469274841088144, 0.37927484108814724], [12.257203067994475, 0.5372030679944757], [11.054131294900799, 0.24513129490080132], [11.763059521807136, 0.22305952180713717], [12.380987748713466, 0.07098774871347047], [11.808915975619797, 0.18891597561979978], [10.746844202526127, 0.056844202526129095], [11.624772429432454, 0.2747724294324527], [9.692700656338793, 0.48270065633879256], [9.340628883245117, 0.6306288832451159], [7.7985571101514495, 0.25855711015145033], [7.936485337057775, 0.15648533705777368], [9.639413563964112, 0.11441356396411351], [10.452341790870442, 0.15234179087044453], [10.490270017776773, -0.019729982223232412], [10.568198244683096, 0.31819824468309577], [11.26612647158943, -0.043873528410571794], [11.02405469849576, 0.17405469849576605], [9.221882925402092, 0.21198292540208996], [10.41981115230842, 0.1899111523084187], [9.957839379214754, 0.32783937921475825], [9.835767606121088, 0.325767606121083], [10.763695833027413, 0.27369583302741773], [9.57162405993374, 0.30162405993374364], [9.069552286840072, 0.2095522868400721], [7.657480513746407, 0.2274805137464071], [6.8754087406527375, 0.37540874065273755], [6.873336967559062, 0.4633369675590657], [6.151265194465402, 0.2112651944653976], [6.7091934213717295, 0.019193421371731745], [5.397121648278059, 0.4971216482780605], [4.415049875184387, -0.5549501248156119], [4.672978102090717, -0.48702189790928685], [4.050906328997044, -1.0190936710029561], [4.34883455590338, -0.5111654440966191], [5.116762782809708, -0.25323721719028924], [4.644691009716041, -0.4253089902839591], [5.222619236622371, -0.027380763377628625], [6.650547463528703, 0.15054746352870296], [6.248475690435029, 0.7484756904350292], [7.696403917341357, 0.9664039173413599], [7.444332144247689, 1.534332144247692], [7.592260371154026, 1.782260371154024], [6.4801885980603515, 1.860188598060354], [6.798116824966684, 1.8381168249666828], [6.34604505187302, 1.8260450518730167], [5.99397327877935, 2.0339732787793494], [5.871901505685678, 2.221901505685679], [6.029829732592006, 2.1898297325920026], [5.718757959498333, 2.277757959498331], [7.315686186404669, 2.295686186404666], [5.933614413310998, 2.5536144133109957], [5.241542640217325, 2.2815426402173244], [4.599470867123657, 2.7894708671236543], [4.957399094029988, 3.007399094029992], [4.665327320936321, 2.8853273209363195], [5.263255547842647, 2.9232555478426505], [4.751183774748981, 2.9311837747489804], [4.289112001655305, 2.8191120016553057], [3.687040228561642, 2.887040228561645], [4.5749684554679675, 3.0849684554679726], [4.0328966823743, 3.222896682374298], [4.600824909280632, 3.250824909280638], [3.1587531361869665, 3.728753136186967], [2.086681363093291, 3.12668136309329], [1.8146095899996197, 2.364609589999624], [2.5825378169059476, 3.0425378169059485], [1.650466043812287, 2.740466043812283], [2.3483942707186145, 3.0483942707186173], [1.4263224976249447, 3.1863224976249427], [1.8542507245312763, 3.3242507245312822], [0.7421789514376087, 2.802178951437611], [0.2601071783439366, 3.2401071783439335], [2.5380354052502625, 3.9780354052502673], [1.215963632156594, 3.945963632156591], [0.35389185906292653, 2.973891859062924], [-0.758179914030741, 3.791820085969256], [-1.8002516871244119, 3.239748312875591], [-3.0223234602180824, 2.877676539781916], [-5.244395233311749, 1.7456047666882526], [-2.3364670064054174, 2.0235329935945785], [-2.178538779499089, 1.3914612205009078], [-0.9206105525927626, 1.1793894474072388], [-0.5326823256864301, 1.4573176743135647], [1.285245901219902, 1.4752459012198997], [3.8931741281262333, 2.1331741281262353], [3.06110235503256, 1.9111023550325612], [4.479030581938893, 2.109030581938896], [5.7969588088452255, 2.5569588088452235], [5.864887035751551, 2.5248870357515543], [6.172815262657885, 2.9428152626578807], [5.850743489564209, 2.530743489564209], [6.1886717164705445, 3.2086717164705476], [7.2165999433768775, 3.0265999433768727], [7.844528170283205, 3.5645281702832037], [8.522456397189536, 4.942456397189531], [8.05038462409587, 5.0703846240958725], [8.918312851002199, 5.488312851002199], [8.95624107790853, 5.986241077908524], [9.564169304814854, 5.894169304814852], [9.152097531721182, 9.432097531721183], [9.12002575862752, 8.33002575862752], [9.787953985533846, 8.907953985533851], [9.655882212440176, 8.785882212440178], [9.313810439346511, 9.85381043934651], [10.65173866625284, 9.79173866625284], [9.679666893159173, 8.97966689315917], [9.717595120065496, 8.707595120065498], [8.84552334697183, 9.405523346971826], [8.723451573878165, 10.093451573878163], [9.641379800784492, 9.40137980078449], [10.43930802769082, 10.139308027690824], [13.977236254597159, 10.377236254597157], [13.305164481503489, 9.795164481503484], [13.263092708409815, 10.143092708409817], [13.621020935316146, 10.261020935316147], [15.008949162222471, 9.358949162222473], [16.3468773891288, 9.316877389128798], [16.134805616035138, 9.414805616035139], [13.602733842941468, 9.112733842941466], [14.210662069847793, 8.040662069847798], [15.778590296754132, 8.128590296754133], [15.196518523660458, 6.996518523660463], [16.04444675056679, 6.94444675056679], [13.142374977473118, 6.032374977473118], [13.960303204379443, 6.290303204379448], [15.278231431285782, 8.28823143128578], [15.826159658192111, 8.626159658192108], [15.934087885098442, 8.504087885098436], [15.282016112004776, 8.042016112004774], [16.479944338911103, 8.889944338911107], [16.98287256581743, 9.227872565817435], [17.855800792723763, 9.01580079272376], [18.40372901963009, 8.333729019630091], [18.59165724653643, 7.991657246536427], [18.84958547344275, 8.249585473442757], [18.792513700349083, 7.96751370034908], [17.935441927255418, 7.525441927255422], [17.883370154161746, 8.383370154161746], [18.511298381068073, 9.031298381068076], [16.84922660797441, 9.079226607974405], [14.387154834880732, 8.227154834880736], [15.185083061787061, 7.595083061787065], [14.173011288693395, 7.7930112886934], [14.150939515599724, 7.680939515599725], [14.528867742506058, 8.938867742506055], [17.446795969412392, 8.256795969412394], [18.344724196318722, 8.92472419631872], [20.242652423225053, 9.162652423225047], [20.320580650131376, 8.750580650131376], [20.05850887703771, 8.69850887703771], [17.281437103944043, 7.88643710394404], [15.184365330850369, 7.674365330850371], [16.782293557756702, 7.862293557756701], [13.600221784663034, 7.250221784663033], [13.218150011569364, 7.8781500115693675], [11.976078238475694, 7.976078238475694], [13.914006465382023, 7.914006465382023], [13.241934692288353, 7.83193469228835], [12.554862919194683, 8.069862919194676], [10.917791146101017, 7.257791146101013], [12.415719373007342, 8.275719373007341], [11.933647599913677, 10.113647599913676], [12.201575826820012, 10.111575826820008], [12.689504053726338, 9.759504053726339], [12.287432280632665, 10.47743228063267], [13.565360507538998, 10.105360507538997], [14.013288734445325, 9.883288734445323], [15.231216961351663, 9.811216961351661], [15.499145188257991, 9.769145188257987], [15.68707341516432, 9.567073415164316], [13.87500164207065, 9.865001642070652], [13.472929868976983, 10.74292986897698], [12.00085809588331, 10.190858095883314], [12.388786322789642, 11.388786322789642], [12.826714549695971, 10.596714549695967], [12.984642776602307, 10.264642776602301], [12.407571003508636, 10.472571003508634], [11.985499230414959, 9.770499230414963], [11.8884274573213, 10.258427457321297], [10.681355684227626, 9.646355684227629], [11.314283911133955, 9.934283911133953], [12.582212138040283, 10.742212138040287], [13.100140364946611, 10.330140364946615], [14.07806859185294, 10.838068591852938], [17.525996818759275, 10.985996818759276], [17.94392504566561, 11.323925045665604], [18.981853272571932, 11.201853272571931], [19.52978149947827, 11.109781499478274], [18.142709726384602, 10.897709726384598], [17.655637953290928, 10.745637953290931], [15.713566180197255, 9.97356618019726], [14.946494407103586, 9.791494407103585], [16.319422634009918, 9.87942263400992], [17.27735086091625, 10.557350860916252], [16.39527908782258, 9.905279087822578], [14.033207314728912, 9.863207314728918], [12.74613554163524, 10.071135541635243], [11.62906376854157, 9.87906376854157], [11.021991995447898, 9.8869919954479], [12.244920222354231, 9.71492022235423], [11.322848449260562, 10.032848449260555], [11.190776676166891, 10.630776676166896], [11.228704903073222, 10.09870490307322], [10.836633129979553, 10.31663312997955], [11.144561356885887, 10.394561356885887], [11.612489583792218, 10.512489583792217], [11.540417810698543, 10.120417810698548], [13.088346037604872, 10.368346037604873], [14.666274264511202, 10.846274264511202], [14.684202491417537, 10.31420249141754], [14.71213071832387, 10.312130718323864], [15.945058945230194, 11.150058945230192], [15.087987172136529, 10.04798717213653], [14.385915399042858, 8.925915399042857], [12.053843625949192, 8.393843625949188], [11.436771852855514, 7.57177185285552], [12.519700079761847, 7.739700079761846], [12.057628306668185, 8.507628306668181], [10.090556533574514, 8.765556533574511], [10.108484760480842, 8.353484760480839], [12.101412987387178, 8.601412987387178], [12.059341214293504, 8.919341214293503], [12.642269441199836, 9.087269441199837], [11.825197668106163, 8.55519766810616], [11.443125895012493, 8.573125895012488], [11.746054121918817, 9.21105412191882], [11.573982348825155, 9.398982348825157], [11.886910575731484, 9.616910575731481], [10.714838802637814, 10.314838802637816], [5.902767029544151, 10.12276702954415], [5.290695256450476, 10.620695256450475], [5.408623483356806, 10.428623483356809], [4.331551710263135, 10.726551710263138], [4.994479937169466, 12.204479937169467], [4.702408164075798, 11.842408164075799], [5.080336390982126, 12.480336390982131], [6.868264617888457, 12.468264617888458], [6.4411928447947915, 12.246192844794791], [5.774121071701124, 12.194121071701119], [4.792049298607452, 11.522049298607449], [4.319977525513778, 11.609977525513777], [2.4379057524201073, 11.377905752420105], [2.8808339793264466, 11.795833979326446], [2.963762206232772, 12.22376220623277], [2.5316904331391044, 12.381690433139099], [3.1946186600454283, 11.569618660045428], [2.537546886951766, 11.737546886951769], [1.9254751138580914, 12.155475113858095], [2.303403340764426, 12.593403340764425], [2.3763315676707535, 12.901331567670752], [3.939259794577083, 12.619259794577083], [5.387188021483418, 12.577188021483416], [5.060116248389747, 12.805116248389744], [4.553044475296076, 12.023044475296075], [4.530972702202412, 17.670972702202413], [3.7089009291087365, 10.888900929108736], [1.9968291560150675, 9.316829156015068], [2.1597573829213985, 10.444757382921395], [1.0026856098277221, 10.632685609827725], [1.210613836734062, 10.490613836734063], [1.8885420636403865, 10.558542063640388], [2.8114702905467155, 10.016470290546721], [1.4243985174530565, 8.594398517453051], [1.7623267443593846, 8.662326744359383], [3.2802549712657125, 9.030254971265713], [4.468183198172042, 9.08818319817204], [4.086111425078371, 9.48611142507837], [3.544039651984697, 9.114039651984697], [3.3719678788910343, 9.981967878891034], [3.359896105797361, 9.75989610579736], [2.4878243327036884, 10.917824332703688], [2.8157525596100257, 11.035752559610025], [3.3236807865163556, 11.913680786516359], [4.481609013422684, 11.721609013422686], [1.479537240329016, 11.339537240329015], [1.9674654672353427, 11.307465467235339], [2.9753936941416796, 10.65539369414168], [2.5133219210480036, 10.183321921048005], [2.0312501479543386, 10.311250147954333], [1.8391783748606727, 10.719178374860668], [3.427106601767001, 10.197106601766997], [4.435034828673331, 10.54503482867333], [4.632963055579658, 10.282963055579657], [3.830891282485986, 9.930891282485987], [3.118819509392324, 9.938819509392324], [3.2867477362986506, 9.996747736298651], [4.2846759632049825, 9.79467596320498], [4.0826041901113115, 9.422604190111308], [4.210532417017646, 9.20053241701764], [4.3984606439239755, 8.988460643923972], [5.4463888708303045, 10.1863888708303], [5.104317097736633, 9.204317097736627], [4.98224532464296, 9.362245324642956], [3.410173551549292, 7.810173551549298], [1.1581017784556238, 6.428101778455627], [-0.99396999463805, 4.916030005361954], [-1.1360417677317116, 3.9239582322682907], [0.19188645917461855, 5.591886459174617], [0.349814686080947, 7.179814686080945], [-0.08225708701272794, 7.077742912987276], [0.25567113989360024, 6.145671139893601], [0.45359936679994206, 5.233599366799936], [2.741527593706266, 6.351527593706265], [2.0994558206125973, 5.739455820612598], [1.787384047518934, 5.197384047518931], [1.9653122744252585, 6.055312274425262], [2.14324050133159, 5.093240501331593], [2.3311687282379197, 5.461168728237922], [3.249096955144246, 6.0990969551442475], [3.3670251820505754, 5.547025182050575], [3.6949534089569127, 6.114953408956914], [4.092881635863243, 5.542881635863239], [5.000809862769572, 7.020809862769568], [4.4787380896759075, 6.108738089675903], [4.196666316582231, 5.466666316582234], [2.1345945434885607, 5.17459454348856], [2.1625227703948937, 5.242522770394892], [1.1504509973012205, 4.490450997301224], [1.1183792242075583, 3.3883792242075543], [-0.06369254888611664, 0.8163074511138859], [0.014235678020213527, 0.4842356780202124], [-0.35783609507345204, 1.9921639049265494], [-0.00990786816711875, 2.0800921318328776], [-0.6019796412607903, 3.7880203587392103], [0.9359485856455336, 3.5959485856455373], [-1.1461231874481328, 2.113876812551865], [0.01180503945820277, 3.371805039458202], [0.41973326636453123, 3.899733266364528], [3.0776614932708597, 3.457661493270855], [4.47558972017719, 3.3455897201771876], [4.023517947083519, 2.933517947083523], [4.3914461739898485, 2.971446173989854], [5.029374400896181, 3.56937440089618], [4.25730262780251, 4.4773026278025085], [4.97523085470884, 4.305230854708839], [5.293159081615173, 3.593159081615177], [4.791087308521504, 2.1410873085214988], [6.449015535427833, 1.259015535427828], [6.1069437623341685, 2.976943762334166], [6.884871989240494, 2.764871989240497], [6.852800216146825, 3.1328002161468262], [6.230728443053152, 3.7107284430531564], [6.208656669959481, 3.898656669959479], [6.5465848968658165, 3.3365848968658156], [6.774513123772145, 4.544513123772148], [6.782441350678475, 6.912441350678478], [5.8903695775848135, 6.810369577584808], [5.838297804491141, 5.6982978044911405], [5.556226031397472, 6.186226031397467], [4.844154258303796, 5.994154258303794], [4.662082485210128, 6.0520824852101285], [4.540010712116455, 5.230010712116453], [4.027938939022789, 4.657938939022792], [3.555867165929122, 4.955867165929121], [2.9137953928354463, 5.383795392835445], [2.361723619741781, 5.831723619741787], [1.7896518466481126, 7.219651846648112], [2.3175800735544385, 6.91758007355444], [2.195508300460773, 7.31550830046077], [2.273436527367096, 6.9334365273671], [1.1813647542734316, 6.881364754273434], [1.2392929811797657, 6.899292981179762], [1.59722120808609, 6.9872212080860905], [1.145149434992426, 6.585149434992431], [3.123077661898755, 6.873077661898755], [3.661005888805086, 6.211005888805083], [3.0889341157114174, 5.018934115711417], [4.766862342617742, 6.256862342617744], [5.55479056952408, 5.6847905695240755], [4.302718796430405, 5.692718796430405], [3.380647023336735, 4.940647023336737], [3.7985752502430685, 5.8085752502430665], [1.7765034771494044, 5.516503477149399], [1.4344317040557328, 6.254431704055733], [2.2373599309620573, 6.612359930962057], [2.82028815786839, 6.710288157868391], [2.058216384774717, 6.328216384774713], [0.6661446116810552, 6.176144611681053], [1.9540728385873791, 6.894072838587384], [2.4270010654937124, 7.252001065493708], [2.7999292924000443, 7.489929292400042], [3.297857519306376, 7.6178575193063764], [2.6957857462126995, 7.365785746212701], [2.9437139731190314, 7.77371397311903], [2.2216422000253573, 7.681642200025358], [1.7495704269316903, 7.319570426931691], [0.2874986538380213, 6.647498653838028], [-0.1245731192556434, 7.3654268807443515], [0.5633551076506862, 7.3533551076506924], [-0.2387166654429791, 5.87128333455702], [-0.34078843853665575, 5.169211561463349], [0.34713978836967385, 3.847139788369674], [1.2450680152760043, 4.215068015276003], [-0.6770037578176655, 2.472996242182333], [-0.24907553091133394, 3.3309244690886715], [-2.0611473040050043, 2.558852695995], [-1.983219077098667, 2.3467809229013312], [-1.8052908501923355, 2.9247091498076614], [-1.0973626232860099, 2.1926373767139893], [-0.7494343963796837, 2.4905656036203183], [-2.051506169473349, 2.2684938305266513], [-1.3135779425670222, 2.9164220574329747], [-1.2856497156606892, 2.1743502843393117], [-2.8577214887543576, 1.8422785112456452], [-2.0297932618480274, 2.0302067381519677], [-1.661865034941691, 1.9181349650583073], [-4.033936808035364, 0.656063191964634], [-3.576008581129038, 0.22399141887096619], [-2.8980803542227065, 0.4319196457772918], [-4.380152127316379, -0.220152127316382], [-5.602223900410053, -0.9622239004100521], [-4.984295673503716, -1.3142956735037146], [-4.076367446597388, -1.866367446597387], [-4.728439219691047, -1.85843921969105], [-3.4205109927847204, -0.8105109927847209], [-2.6525827658783925, -0.8325827658783922], [-1.9446545389720598, 0.515345461027934], [-1.7667263120657353, 0.7132736879342687], [-1.5687980851594077, 0.5012019148405926], [-0.5108698582530664, 1.4191301417469333], [-0.9929416313467385, 0.9970583686532564], [-0.7350134044404086, 0.9749865955595922], [-0.05708517753407705, 1.482914822465922], [-0.5691569506277503, 0.9208430493722517], [-0.461228723721419, -0.4012287237214167], [0.34669950318490805, 0.6166995031849112], [0.08462773009124192, 0.21462773009123737], [0.3525559569975698, -0.44744404300243446], [0.08048418390390566, -0.7495158160960997], [0.5584124108102344, -0.3715875891897653], [-0.8236593622834292, -1.3636593622834354], [0.03426886462289502, -1.1557311353771027], [-0.007802908470772252, -1.7278029084707782], [0.8101253184355528, 0.21012531843555138], [0.9080535453418861, -0.37194645465811504], [0.40598177224821086, -0.9840182277517897], [0.5839099991545496, -1.2660900008454519], [0.35183822606087745, -2.028161773939125], [1.6697664529672096, -0.9102335470327887], [1.6776946798735395, -0.17230532012646194], [0.9456229067798674, 0.9356229067798694], [0.08355113368619982, 0.8035511336861987], [-1.3585206394074731, 0.6214793605925237], [-0.9705924125011478, 0.2994075874988553], [-0.5526641855948071, 1.217335814405189], [-0.5447359586884772, 2.0952640413115233], [-0.936807731782153, 2.3831922682178472], [-2.448879504875812, 3.021120495124187], [-2.620951277969489, 3.7690487220305116], [-3.083023051063158, 3.8369769489368437], [-3.1350948241568304, 5.234905175843174], [-3.697166597250501, 5.1328334027494975], [-3.5792383703441715, 4.860761629655826], [-3.3713101434378387, 4.568689856562166], [-2.933381916531509, 4.886618083468491], [-2.2054536896251733, 5.354546310374829], [-0.9975254627188406, 5.502474537281159], [-1.279597235812517, 5.920402764187486], [-1.291669008906183, 6.3583309910938155], [-0.8937407819998526, 6.326259218000146], [-0.9958125550935293, 6.214187444906472], [-2.2678843281871934, 6.162115671812806], [-4.089956101280862, 6.340043898719138], [-5.322027874374527, 4.997972125625473], [-5.424099647468196, 5.265900352531801], [-5.6561714205618685, 5.0938285794381315], [-6.418243193655542, 4.801756806344457], [-7.720314966749214, 4.619685033250789], [-8.002386739842883, 5.597613260157118], [-7.874458512936556, 5.695541487063444], [-9.266530286030218, 4.573469713969779], [-9.69360205912389, 5.741397940876112], [-9.490673832217553, 4.8193261677824495], [-9.602745605311227, 4.957254394688775], [-8.794817378404893, 3.995182621595106], [-9.726889151498568, 3.4131108485014323], [-11.27896092459224, 3.641039075407761], [-11.121032697685909, 3.7589673023140904], [-10.533104470779577, 4.116895529220429], [-10.035176243873245, 3.8248237561267544], [-10.08724801696691, 4.262751983033091], [-10.569319790060582, 3.7106802099394187], [-10.731391563154254, 4.31860843684575], [-11.033463336247923, 3.636536663752075], [-10.635535109341596, 4.504464890658404], [-10.637606882435264, 4.192393117564734], [-11.319678655528929, 4.500321344471068], [-11.201750428622603, 4.328249571377398], [-10.963822201716273, 4.546177798283729], [-10.945893974809938, 4.954106025190065], [-11.247965747903606, 5.2120342520963945], [-12.13003752099728, 4.98996247900272], [-11.702109294090949, 5.447890705909046], [-10.624181067184622, 5.36581893281538], [-10.496252840278295, 5.44374715972171], [-9.628324613371959, 5.111675386628043], [-9.910396386465628, 4.339603613534372], [-11.272468159559292, 3.117531840440705], [-12.734539932652964, 4.095460067347034], [-12.626611705746637, 4.103388294253364], [-13.998683478840306, 4.121316521159692], [-13.820755251933978, 3.27924474806602], [-13.472827025027648, 3.7271729749723477], [-13.184898798121313, 4.085101201878686], [-13.336970571214984, 4.103029428785014], [-12.91904234430865, 4.65095765569135], [-16.22111411740232, 3.2388858825976783], [-18.02318589049599, 2.1268141095040107], [-16.545257663589663, 3.1047423364103395], [-15.637329436683334, 3.9026705633166685], [-15.049401209777006, 4.100598790222996], [-14.051472982870678, 4.068527017129327], [-14.47354475596434, 4.09645524403566], [-15.07561652905801, 4.664383470941992], [-14.047688302151677, 4.242311697848322], [-13.429760075245348, 5.030239924754653], [-12.331831848339018, 4.798168151660981], [-8.853903621432693, 5.356096378567308], [-9.085975394526358, 5.654024605473637], [-7.678047167620029, 6.421952832379965], [-7.690118940713695, 6.099881059286304], [-7.572190713807366, 6.117809286192632], [-7.614262486901033, 5.745737513098966], [-7.726334259994701, 6.603665740005297], [-8.708406033088373, 6.471593966911627], [-7.330477806182046, 6.569522193817953], [-7.912549579275719, 6.277450420724286], [-7.1846213523693905, 6.185378647630614], [-7.556693125463049, 6.09330687453695], [-7.43876489855672, 6.281235101443279], [-8.300836671650387, 6.669163328349612], [-8.222908444744057, 6.57709155525594], [-10.334980217837732, 5.875019782162269], [-10.387051990931404, 7.3429480090686], [-10.309123764025074, 7.520876235974924], [-9.471195537118746, 7.17880446288126], [-9.583267310212413, 6.8667326897875824], [-9.365339083306075, 6.974660916693921], [-9.79741085639975, 7.832589143600252], [-9.039482629493413, 8.070517370506586], [-9.101554402587084, 7.958445597412911], [-8.17362617568076, 8.336373824319246], [-7.315697948774428, 8.024302051225575], [-7.487769721868098, 8.212230278131898], [-7.439841494961769, 8.180158505038229], [-7.641913268055433, 8.408086731944564], [-8.153985041149106, 7.076014958850891], [-7.7760568142427715, 7.07394318575723], [-7.548128587336443, 6.431871412663561], [-7.500200360430114, 6.249799639569886], [-8.012272133523787, 6.517727866476214], [-8.094343906617453, 6.495656093382543], [-7.236415679711129, 6.463584320288874], [-8.0084874528048, 6.791512547195204], [-8.09055922589846, 6.779440774101538], [-7.822630998992132, 6.907369001007865], [-7.414702772085796, 6.915297227914202], [-5.646774545179468, 7.643225454820531], [-5.068846318273138, 6.991153681726857], [-5.950918091366809, 5.94908190863319], [-6.122989864460479, 6.687010135539516], [-7.115061637554156, 5.834938362445847], [-8.117133410647817, 6.04286658935218], [-8.119205183741492, 6.19079481625851], [-9.061276956835151, 5.958723043164845], [-9.133348729928827, 5.746651270071176], [-9.445420503022497, 6.004579496977506], [-9.947492276116165, 6.4425077238838355], [-9.389564049209838, 6.9904359507901646], [-9.111635822303512, 6.848364177696489], [-9.753707595397174, 6.5262924046028274], [-8.705779368490845, 7.164220631509153], [-8.887851141584505, 7.022148858415491], [-8.92992291467818, 6.270077085321823], [-8.161994687771852, 7.238005312228147], [-7.09406646086552, 7.565933539134477], [-7.186138233959191, 7.4938617660408084], [-6.968210007052868, 7.341789992947135], [-6.690281780146535, 6.789718219853462], [-7.152353553240204, 6.967646446759801], [-6.014425326333871, 7.785574673666126], [-6.726497099427533, 6.033502900572465], [-7.568568872521205, 6.471431127478795], [-5.730640645614876, 6.049359354385125], [-6.342712418708551, 5.18728758129145], [-6.434784191802223, 5.01521580819778], [-5.686855964895891, 6.02314403510411], [-4.428927737989554, 6.051072262010443], [-4.490999511083224, 6.21900048891677], [-5.203071284176893, 5.836928715823106], [-5.295143057270565, 5.904856942729438], [-5.4572148303642365, 4.842785169635768], [-5.849286603457905, 3.6007133965420977], [-5.28135837655158, 3.5786416234484264], [-5.153430149645246, 3.3465698503547543], [-4.635501922738918, 2.564498077261078], [-5.457573695832586, 1.9924263041674166], [-5.569645468926254, 4.830354531073745], [-5.921717242019916, 3.648282757980084], [-5.583789015113588, 4.616210984886408], [-3.8558607882072593, 4.634139211792736], [-3.6679325613009297, 4.962067438699066], [-2.980004334394607, 5.609995665605396], [-3.112076107488278, 5.677923892511728], [-2.5041478805819395, 5.17585211941806], [-2.056219653675612, 3.5037803463243904], [-0.7182914267692766, 3.671708573230724], [-1.050363199862943, 3.3396368001370575], [0.3075650270433812, 3.6875650270433837], [0.7154932539497096, 4.345493253949712], [0.5134214808560387, 4.43342148085604], [0.4913497077623674, 4.041349707762372], [0.7292779346687084, 4.569277934668705], [1.187206161575034, 4.547206161575033], [0.8451343884813696, 4.495134388481368], [1.2130626153876989, 4.773062615387701], [0.7409908422940248, 4.68099084229403], [0.028919069200355807, 3.4389190692003524], [0.356847296106686, 3.356847296106686], [-0.04522447698698784, 4.054775523013014], [0.6427037499193418, 4.432703749919341], [2.8406319768256765, 5.450631976825676], [2.218560203732004, 5.848560203732006], [3.786488430638343, 6.036488430638343], [1.7144166575446746, 5.044416657544673], [1.9423448844510034, 5.152344884450997], [2.0002731113573304, 4.920273111357332], [2.3582013382636546, 6.378201338263658], [1.6661295651699888, 6.496129565169987], [2.5940577920763204, 6.404057792076323], [3.2119860189826497, 7.091986018982652], [3.4399142458889855, 7.089914245888984], [2.637842472795313, 7.207842472795313], [2.405770699701641, 7.705770699701645], [2.5136989266079723, 7.623698926607972], [1.5516271535143034, 7.321627153514299], [1.1095553804206304, 7.479555380420628], [0.527483607326964, 7.367483607326967], [0.11541183423329215, 7.405411834233298], [0.4933400611396266, 7.903340061139623], [-0.33873171195403984, 7.701268288045959], [-0.04080348504771081, 7.84919651495229], [0.8071247418586154, 7.67712474185862], [2.1850529687649427, 7.6350529687649455], [2.322981195671275, 6.992981195671277], [1.7609094225776047, 7.050909422577604], [1.2888376494839378, 7.378837649483941], [0.3667658763902679, 6.836765876390267], [1.2346941032966043, 6.894694103296601], [0.8326223302029305, 7.0726223302029325], [1.5505505571092613, 7.52055055710926], [0.46847878401558773, 7.27847878401559], [1.046407010921918, 7.28640701092192], [1.394335237828244, 7.4843352378282475], [3.0522634647345868, 7.302263464734587], [0.39019169164091494, 8.09019169164091], [-1.6818800814527535, 7.688119918547251], [-2.3539518545464233, 8.336048145453574], [-2.5760236276400974, 8.693976372359906], [-2.638095400733768, 9.051904599266237], [-2.4701671738274342, 9.249832826172565], [-1.3922389469211112, 9.077761053078895], [-1.5443107200147779, 9.265689279985217], [-1.6763824931084415, 9.223617506891557], [-0.4584542662021178, 9.201545733797886], [-0.3305260392957763, 8.949473960704218], [0.6074021876105462, 8.33740218761055], [-0.25466958548312135, 8.195330414516881], [0.6932586414232063, 8.303258641423206], [0.10118686832953472, 5.911186868329537], [0.01911509523586119, 5.619115095235863], [-0.10295667785779727, 6.557043322142199], [-0.6150284509514705, 6.444971549048532], [-0.8571002240451335, 6.622899775954863], [-0.6991719971388051, 6.900828002861196], [-0.6812437702324772, 6.828756229767521], [-0.6633155433261493, 6.286684456673854], [0.04461268358018344, 6.844612683580181], [-1.3474590895134924, 6.302540910486506], [-0.2695308626071551, 6.330469137392846], [-1.8016026357008244, 5.968397364299172], [-2.2936744087944945, 5.936325591205502], [-2.2657461818881615, 5.844253818111838], [-3.847817954981835, 6.5121820450181644], [-3.299889728075506, 6.140110271924499], [-4.851961501169178, 6.3380384988308265], [-6.034033274262846, 6.175966725737155], [-5.176105047356515, 7.013894952643483], [-5.15817682045018, 7.141823179549817], [-5.590248593543855, 6.689751406456146], [-5.632320366637515, 6.947679633362483], [-6.934392139731187, 6.0356078602688115], [-7.026463912824859, 6.493536087175137], [-5.988535685918535, 6.4014643140814655], [-5.690607459012206, 6.4293925409877986], [-5.702679232105872, 6.527320767894125], [-4.864751005199537, 6.695248994800458], [-5.526822778293209, 6.333177221706791], [-4.9688945513868745, 5.961105448613125], [-5.230966324480548, 5.8390336755194525], [-5.103038097574213, 5.6169619024257855], [-6.675109870667889, 5.074890129332111], [-6.287181643761556, 5.072818356238443], [-5.899253416855231, 5.050746583144772], [-5.831325189948899, 4.898674810051098], [-5.343396963042565, 5.076603036957437], [-3.755468736136237, 5.164531263863765], [-3.7475405092299, 5.512459490770098], [-4.379612282323571, 5.370387717676429], [-3.5216840554172464, 5.748315944582757], [-3.9637558285109122, 5.776244171489083], [-3.395827601604587, 6.054172398395416], [-2.597899374698258, 6.472100625301742], [-2.6899711477919226, 6.350028852208077], [-1.4220429208855947, 7.12795707911441], [-1.2741146939792571, 7.235885306020741], [-1.5061864670729292, 7.6638135329270725], [-3.948258240166602, 8.531741759833402], [-5.330330013260273, 8.159669986739729], [-5.892401786353943, 8.30759821364606], [-4.124473559447615, 8.475526440552386], [-4.096545332541275, 7.573454667458726], [-4.128617105634952, 10.83138289436505], [-3.5506888787286215, 11.40931112127138], [-3.142760651822286, 10.727239348177719], [-1.0248324249159566, 11.325167575084045], [-0.826904198009629, 11.773095801990372], [-1.6089759711032983, 11.571024028896701], [-2.3410477441969704, 11.708952255803034], [-1.5131195172906402, 11.80688048270936], [-1.2751912903843063, 12.114808709615694], [-3.3172630634779736, 11.492736936522022], [-3.609334836571641, 11.650665163428357], [-3.061406609665312, 12.028593390334692], [-2.093478382758981, 12.00652161724102], [-1.6655501558526566, 13.104449844147346], [-1.5776219289463214, 13.952378071053673], [-0.3496937020399926, 14.210306297960003], [0.3482345248663421, 14.21823452486634], [-0.4538372482273303, 13.846162751772667], [-0.025909021320998704, 13.844090978679006], [0.5920192055853306, 14.182019205585334], [1.0399474324916653, 14.019947432491662], [1.237875659397993, 14.167875659397993], [1.2158038863043217, 14.455803886304317], [2.313732113210648, 14.713732113210646], [2.861660340116977, 14.011660340116975], [1.6795885670233162, 13.999588567023316], [0.8675167939296387, 13.237516793929643], [0.8154450208359805, 13.325445020835978], [0.7333732477423069, 13.573373247742303], [0.43130147464863455, 13.711301474648636], [0.08922970155496301, 13.849229701554961], [0.9371579284612892, 14.307157928461294], [-0.7149138446323775, 14.255086155367621], [-0.3369856177260431, 14.233014382273957], [0.18094260918028482, 14.720942609180284], [-0.18112916391337563, 13.968870836086623], [-0.05320093700704831, 13.88679906299295], [-0.3552727101007207, 13.904727289899277], [0.37265551680560804, 14.07265551680561], [0.7205837437119342, 13.600583743711937], [1.3985119706182658, 13.458511970618268], [1.446440197524602, 13.726440197524603], [2.294368424430928, 13.584368424430927], [3.062296651337263, 12.802296651337265], [4.020224878243596, 13.580224878243598], [3.62815310514992, 13.438153105149922], [2.5560813320562517, 13.156081332056253], [4.724009558962578, 13.484009558962583], [4.711937785868912, 13.951937785868907], [5.099866012775237, 14.22986601277524], [4.727794239681572, 13.927794239681575], [3.9857224665879016, 13.295722466587904], [3.4236506934942383, 13.23365069349424], [3.131578920400571, 13.541578920400568], [2.679507147306893, 13.929507147306893], [2.0274353742132263, 14.037435374213224], [1.3353636011195533, 12.005363601119555], [1.7132918280258806, 12.763291828025885], [0.6812200549322185, 12.691220054932216], [1.1491482818385492, 12.869148281838548], [1.0770765087448808, 13.157076508744886], [1.675004735651214, 12.73500473565121], [1.0429329625575434, 12.13293296255754], [1.1208611894638665, 12.85086118946387], [1.3487894163701952, 12.668789416370196], [1.106717643276525, 12.356717643276525], [0.5046458701828556, 10.504645870182856], [-0.11742590291081001, 11.292574097089194], [-0.9894976760044827, 10.200502323995522], [-1.2115694490981426, 10.168430550901853], [-0.773641222191813, 11.156358777808187], [-1.0857129952854834, 11.424287004714515], [-1.2177847683791612, 11.872215231620842], [-3.619856541472828, 11.25014345852717], [-4.121928314566503, 11.0780716854335], [-3.9840000876601636, 11.655999912339837], [-4.306071860753839, 11.883928139246166], [-5.768143633847501, 11.6218563661525], [-6.840215406941169, 11.62978459305883], [-4.532287180034842, 11.547712819965156], [-4.854358953128511, 11.735641046871486], [-5.266430726222183, 11.673569273777815], [-5.528502499315856, 12.091497500684142], [-5.130574272409518, 12.829425727590483], [-4.582646045503189, 12.977353954496806], [-5.994717818596854, 13.255282181403146], [-5.626789591690525, 13.453210408309474], [-6.118861364784195, 14.891138635215796], [-6.380933137877868, 14.719066862122133], [-4.143004910971541, 15.27699508902846], [-3.7350766840652128, 15.374923315934794], [-3.047148457158883, 15.232851542841118], [-3.8792202302525496, 15.180779769747453], [-4.091292003346219, 15.108707996653784], [-4.80336377643988, 15.08663622356012], [-5.755435549533551, 14.644564450466447], [-4.7375073226272235, 14.322492677372779], [-3.8895790957208973, 14.060420904279098], [-3.1416508688145655, 13.958349131185429], [-2.523722641908236, 13.446277358091763], [-2.665794415001905, 13.084205584998095], [-3.417866188095573, 12.942133811904426], [-2.7999379611892365, 13.030062038810762], [-2.822009734282908, 13.447990265717088], [-2.604081507376584, 13.415918492623419], [0.1538467195297457, 13.233846719529751], [0.3517749464360733, 13.191774946436077], [0.15970317334240747, 13.349703173342405], [0.8776314002487311, 13.327631400248734], [0.1555596271550712, 13.285559627155067], [2.5634878540613997, 13.5234878540614], [2.3414160809677327, 13.791416080967736], [2.1393443078740617, 14.39934430787406], [2.1672725347803947, 14.90727253478039], [1.7152007616867238, 15.155200761686714], [1.4931289885930497, 15.233128988593052], [1.4310572154993793, 14.96105721549938], [0.888985442405712, 14.958985442405712], [1.2869136693120424, 15.29691366931204], [0.31484189621837544, 14.61484189621838], [1.2627701231247102, 14.292770123124711], [0.3106983500310392, 13.670698350031032], [-2.1213734230626358, 13.008626576937367], [-3.193445196156304, 13.29655480384369], [-3.5255169692499777, 12.464483030750024], [-3.9775887423436416, 13.022411257656358], [-2.9796605154373097, 13.690339484562692], [-3.481732288530978, 16.468267711469025], [-3.4138040616246457, 17.82619593837535], [-3.3758758347183218, 18.824124165281674], [-4.44794760781199, 17.542052392188012], [-4.560019380905665, 18.579980619094343], [-5.18209115399933, 18.347908846000664], [-5.1541629270930045, 18.15583707290699], [-5.256234700186667, 17.883765299813327], [-5.208306473280338, 18.881693526719665], [-3.8503782463740066, 18.579621753626], [-3.382450019467676, 19.34754998053232], [-3.6945217925613463, 19.70547820743866], [-3.4165935656550204, 19.843406434344985], [-2.4786653387486908, 20.23133466125131], [-2.490737111842364, 19.919262888157633], [-2.6128088849360225, 20.11719111506398], [-2.7748806580296943, 20.34511934197031], [-1.9969524311233613, 20.17304756887664], [-1.9890242042170314, 20.370975795782968], [-0.7710959773107007, 21.028904022689304], [-2.283167750404374, 21.016832249595623], [-1.3752395234980455, 19.71476047650195], [-1.8573112965917176, 19.522688703408278], [-1.7393830696853811, 19.62061693031462], [-0.4914548427790493, 20.26854515722095], [-0.37352661587271996, 20.486473384127272], [-0.11559838896639008, 20.35440161103361], [-0.9676701620600596, 20.792329837939945], [-1.3697419351537263, 20.920258064846266], [-1.2718137082474001, 20.278186291752604], [-0.44388548134107, 20.45611451865892], [-0.035957254434741515, 21.104042745565252], [-0.10802902752840993, 21.25197097247159], [0.3498991993779228, 21.139899199377915], [1.197827426284256, 20.687827426284258], [0.9757556531905891, 20.37575565319058], [1.2136838800969159, 20.703683880096918], [0.7416121070032418, 20.791612107003246], [0.7795403339095728, 20.709540333909572], [0.3274685608159018, 20.337468560815907], [1.2653967877222385, 20.045396787722233], [0.5933250146285687, 20.35332501462856], [0.9012532415349028, 20.761253241534902], [0.8591814684412284, 21.56918146844123], [0.31710969534756117, 22.427109695347553], [0.24503792225388565, 23.275037922253887], [1.9229661491602172, 22.052966149160213], [4.540894376066547, 22.71089437606655], [6.5688226029728725, 23.488822602972874], [6.056750829879206, 23.616750829879216], [6.214679056785535, 24.824679056785534], [6.3726072836918775, 24.362607283691872], [6.070535510598205, 24.630535510598207], [6.088463737504533, 25.468463737504536], [6.256391964410859, 25.556391964410864], [2.734320191317188, 26.274320191317187], [0.9722484182235149, 27.172248418223518], [0.9701766451298539, 27.990176645129857], [0.5581048720361821, 27.05810487203619], [0.44603309894252163, 26.206033098942513], [2.1539613258488473, 24.56396132584885], [1.6918895527551783, 25.63188955275517], [-0.11018222033849412, 24.569817779661506], [-2.472253993432169, 21.59774600656783], [-1.0743257665258383, 21.015674233474158], [-0.8763975396195036, 21.583602460380497]]\n"
     ]
    }
   ],
   "source": [
    "new_data_regressed = data_to_quantile_regressed(data_regressed,limite)\n",
    "print(new_data_regressed)\n",
    "print((data_regressed))\n",
    "# On bouge déja un peu plus sur les données d'entrées"
   ]
  },
  {
   "cell_type": "code",
   "execution_count": 71,
   "id": "e9460e20",
   "metadata": {},
   "outputs": [],
   "source": [
    "# On lance l'algorithme de Q learning sur nos données avec la tendance en moins\n",
    "state0 = [0,0,2,2,200]\n",
    "Q,trajectoire_regressed = qlearning3(state0,new_data_regressed, 0.05, 0.05,10,data)"
   ]
  },
  {
   "cell_type": "code",
   "execution_count": null,
   "id": "3296f37b",
   "metadata": {},
   "outputs": [],
   "source": [
    "n_action = (int((len(trajectoire_regressed[0]) -1)/2))\n",
    "qt = []\n",
    "color = ['b','g','r','c','m','y','k','w']\n",
    "for i in range(n_action):\n",
    "    qt.append([])\n",
    "for k in range(len(trajectoire_regressed)):\n",
    "    for i in range(n_action):\n",
    "        qt[i].append(trajectoire_regressed[k][i])\n",
    "for i in range(n_action):\n",
    "    plt.plot(qt[i],color[i])"
   ]
  },
  {
   "attachments": {},
   "cell_type": "markdown",
   "id": "9a4052a7",
   "metadata": {},
   "source": [
    "Dernière variation: \n",
    "Une utilisation des variations relatives des cours à la place des valeurs à l'instant t"
   ]
  },
  {
   "cell_type": "code",
   "execution_count": 74,
   "id": "50eb46ca",
   "metadata": {},
   "outputs": [],
   "source": [
    "# On va utiliser les variations relatives des données par rapport à la valeur précédentes à la place de la valeur absolue \n",
    "# Il nous faut créer un dataset avec les variations relatives à la valeur précédentes"
   ]
  },
  {
   "cell_type": "code",
   "execution_count": 75,
   "id": "94f2d920",
   "metadata": {},
   "outputs": [],
   "source": [
    "data_variations = []\n",
    "for i in range(1,len(data)):\n",
    "    data_variations.append([(data[i][0] - data[i-1][0])/data[i-1][0],(data[i][1] - data[i-1][1])/data[i-1][1]])"
   ]
  },
  {
   "cell_type": "code",
   "execution_count": 76,
   "id": "618ea4d0",
   "metadata": {},
   "outputs": [],
   "source": [
    "limite_variation = data_to_limite_quantile(data_variations,10)\n"
   ]
  },
  {
   "cell_type": "code",
   "execution_count": 77,
   "id": "b0efeeab",
   "metadata": {},
   "outputs": [],
   "source": [
    "new_data_variation = data_to_quantile(data_variations,limite_variation)\n"
   ]
  },
  {
   "cell_type": "code",
   "execution_count": 78,
   "id": "5e9c48f0",
   "metadata": {},
   "outputs": [],
   "source": [
    "state0 = [0,0,2,2,200]\n",
    "Q,trajectoire_variation = qlearning3(state0,new_data_variation, 0.05, 0.05,10,data)"
   ]
  },
  {
   "cell_type": "code",
   "execution_count": null,
   "id": "2d14ce38",
   "metadata": {},
   "outputs": [],
   "source": [
    "trajectoire_variation"
   ]
  },
  {
   "cell_type": "code",
   "execution_count": 80,
   "id": "db044d3b",
   "metadata": {},
   "outputs": [
    {
     "data": {
      "image/png": "[encoded data removed]",
      "text/plain": [
       "<Figure size 432x288 with 1 Axes>"
      ]
     },
     "metadata": {
      "needs_background": "light"
     },
     "output_type": "display_data"
    }
   ],
   "source": [
    "n_action = (int((len(trajectoire_variation[0]) -1)/2))\n",
    "qt = []\n",
    "color = ['b','g','r','c','m','y','k','w']\n",
    "for i in range(n_action):\n",
    "    qt.append([])\n",
    "for k in range(len(trajectoire_variation)):\n",
    "    for i in range(n_action):\n",
    "        qt[i].append(trajectoire_variation[k][i])\n",
    "for i in range(n_action):\n",
    "    plt.plot(qt[i],color[i])"
   ]
  }
 ],
 "metadata": {
  "kernelspec": {
   "display_name": "base",
   "language": "python",
   "name": "python3"
  },
  "language_info": {
   "codemirror_mode": {
    "name": "ipython",
    "version": 3
   },
   "file_extension": ".py",
   "mimetype": "text/x-python",
   "name": "python",
   "nbconvert_exporter": "python",
   "pygments_lexer": "ipython3",
   "version": "3.8.5"
  },
  "vscode": {
   "interpreter": {
    "hash": "f6716dbedf63cc3cc3454830c6e7cfdb12d0aa2e0dca19a8f02decd88c98998a"
   }
  }
 },
 "nbformat": 4,
 "nbformat_minor": 5
}
