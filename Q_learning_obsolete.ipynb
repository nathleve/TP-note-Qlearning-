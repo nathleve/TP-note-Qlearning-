{
 "cells": [
  {
   "cell_type": "markdown",
   "id": "a0d425cd-11d9-4175-8ac0-26086cf9553e",
   "metadata": {},
   "source": [
    "# TRADING"
   ]
  },
  {
   "attachments": {},
   "cell_type": "markdown",
   "id": "1d5292cf-d41e-4273-987f-e2c3ce0fb8bf",
   "metadata": {
    "tags": []
   },
   "source": [
    "Ce notebook contient des approches obsolètes précédentes pour les algorithmes de Q learning pour les achats et ventes d'actions. "
   ]
  },
  {
   "cell_type": "code",
   "execution_count": 1,
   "id": "b19c8d3b-dd96-41e5-b476-845632f0f2bf",
   "metadata": {},
   "outputs": [],
   "source": [
    "from numpy.random import default_rng\n",
    "\n",
    "import pandas as pd\n",
    "import numpy as np\n",
    "import matplotlib.pyplot as plt\n",
    "from numpy.random import uniform\n"
   ]
  },
  {
   "cell_type": "code",
   "execution_count": 7,
   "id": "a8bbab07-911a-4d9c-96f4-0d2029a2ae85",
   "metadata": {},
   "outputs": [],
   "source": [
    "thales = pd.read_excel('thales_historical.xlsx')"
   ]
  },
  {
   "cell_type": "code",
   "execution_count": 8,
   "id": "f6eed60f",
   "metadata": {},
   "outputs": [
    {
     "data": {
      "text/html": [
       "<div>\n",
       "<style scoped>\n",
       "    .dataframe tbody tr th:only-of-type {\n",
       "        vertical-align: middle;\n",
       "    }\n",
       "\n",
       "    .dataframe tbody tr th {\n",
       "        vertical-align: top;\n",
       "    }\n",
       "\n",
       "    .dataframe thead th {\n",
       "        text-align: right;\n",
       "    }\n",
       "</style>\n",
       "<table border=\"1\" class=\"dataframe\">\n",
       "  <thead>\n",
       "    <tr style=\"text-align: right;\">\n",
       "      <th></th>\n",
       "      <th>Date</th>\n",
       "      <th>Open</th>\n",
       "      <th>High</th>\n",
       "      <th>Low</th>\n",
       "      <th>Close</th>\n",
       "      <th>Volume</th>\n",
       "    </tr>\n",
       "  </thead>\n",
       "  <tbody>\n",
       "    <tr>\n",
       "      <th>0</th>\n",
       "      <td>24 03 2023</td>\n",
       "      <td>135.950</td>\n",
       "      <td>136.000</td>\n",
       "      <td>134.200</td>\n",
       "      <td>135.100</td>\n",
       "      <td>244637</td>\n",
       "    </tr>\n",
       "    <tr>\n",
       "      <th>1</th>\n",
       "      <td>23 03 2023</td>\n",
       "      <td>135.150</td>\n",
       "      <td>137.050</td>\n",
       "      <td>134.750</td>\n",
       "      <td>136.350</td>\n",
       "      <td>265563</td>\n",
       "    </tr>\n",
       "    <tr>\n",
       "      <th>2</th>\n",
       "      <td>22 03 2023</td>\n",
       "      <td>133.900</td>\n",
       "      <td>135.600</td>\n",
       "      <td>133.150</td>\n",
       "      <td>135.200</td>\n",
       "      <td>221184</td>\n",
       "    </tr>\n",
       "    <tr>\n",
       "      <th>3</th>\n",
       "      <td>21 03 2023</td>\n",
       "      <td>132.850</td>\n",
       "      <td>135.250</td>\n",
       "      <td>132.000</td>\n",
       "      <td>133.900</td>\n",
       "      <td>287586</td>\n",
       "    </tr>\n",
       "    <tr>\n",
       "      <th>4</th>\n",
       "      <td>20 03 2023</td>\n",
       "      <td>129.800</td>\n",
       "      <td>132.250</td>\n",
       "      <td>127.850</td>\n",
       "      <td>132.250</td>\n",
       "      <td>275474</td>\n",
       "    </tr>\n",
       "    <tr>\n",
       "      <th>...</th>\n",
       "      <td>...</td>\n",
       "      <td>...</td>\n",
       "      <td>...</td>\n",
       "      <td>...</td>\n",
       "      <td>...</td>\n",
       "      <td>...</td>\n",
       "    </tr>\n",
       "    <tr>\n",
       "      <th>2561</th>\n",
       "      <td>03 04 2013</td>\n",
       "      <td>33.590</td>\n",
       "      <td>33.680</td>\n",
       "      <td>33.000</td>\n",
       "      <td>33.015</td>\n",
       "      <td>224903</td>\n",
       "    </tr>\n",
       "    <tr>\n",
       "      <th>2562</th>\n",
       "      <td>02 04 2013</td>\n",
       "      <td>33.095</td>\n",
       "      <td>33.855</td>\n",
       "      <td>33.070</td>\n",
       "      <td>33.855</td>\n",
       "      <td>319696</td>\n",
       "    </tr>\n",
       "    <tr>\n",
       "      <th>2563</th>\n",
       "      <td>28 03 2013</td>\n",
       "      <td>32.745</td>\n",
       "      <td>33.045</td>\n",
       "      <td>32.480</td>\n",
       "      <td>32.995</td>\n",
       "      <td>335531</td>\n",
       "    </tr>\n",
       "    <tr>\n",
       "      <th>2564</th>\n",
       "      <td>27 03 2013</td>\n",
       "      <td>32.615</td>\n",
       "      <td>32.630</td>\n",
       "      <td>32.315</td>\n",
       "      <td>32.565</td>\n",
       "      <td>171238</td>\n",
       "    </tr>\n",
       "    <tr>\n",
       "      <th>2565</th>\n",
       "      <td>26 03 2013</td>\n",
       "      <td>32.810</td>\n",
       "      <td>32.970</td>\n",
       "      <td>32.515</td>\n",
       "      <td>32.735</td>\n",
       "      <td>150098</td>\n",
       "    </tr>\n",
       "  </tbody>\n",
       "</table>\n",
       "<p>2566 rows × 6 columns</p>\n",
       "</div>"
      ],
      "text/plain": [
       "            Date     Open     High      Low    Close  Volume\n",
       "0     24 03 2023  135.950  136.000  134.200  135.100  244637\n",
       "1     23 03 2023  135.150  137.050  134.750  136.350  265563\n",
       "2     22 03 2023  133.900  135.600  133.150  135.200  221184\n",
       "3     21 03 2023  132.850  135.250  132.000  133.900  287586\n",
       "4     20 03 2023  129.800  132.250  127.850  132.250  275474\n",
       "...          ...      ...      ...      ...      ...     ...\n",
       "2561  03 04 2013   33.590   33.680   33.000   33.015  224903\n",
       "2562  02 04 2013   33.095   33.855   33.070   33.855  319696\n",
       "2563  28 03 2013   32.745   33.045   32.480   32.995  335531\n",
       "2564  27 03 2013   32.615   32.630   32.315   32.565  171238\n",
       "2565  26 03 2013   32.810   32.970   32.515   32.735  150098\n",
       "\n",
       "[2566 rows x 6 columns]"
      ]
     },
     "execution_count": 8,
     "metadata": {},
     "output_type": "execute_result"
    }
   ],
   "source": [
    "thales"
   ]
  },
  {
   "cell_type": "code",
   "execution_count": 9,
   "id": "cfa2d642-b668-41b0-9a84-b9da01312dfe",
   "metadata": {},
   "outputs": [],
   "source": [
    "thales = thales[\"Open\"]\n"
   ]
  },
  {
   "cell_type": "code",
   "execution_count": 14,
   "id": "7becb7ff-80a5-4fc7-ba8e-8b5bdc811ae3",
   "metadata": {},
   "outputs": [],
   "source": [
    "def action(state): \n",
    "    i = int(state/10)\n",
    "    j = 10-i\n",
    "    vector = np.zeros((21))\n",
    "    vector[10-i:10]=1\n",
    "    vector[10:11+j]=1\n",
    "    return vector"
   ]
  },
  {
   "cell_type": "code",
   "execution_count": 15,
   "id": "6ccf5a47-79c1-457b-ab7f-7600052e5260",
   "metadata": {},
   "outputs": [
    {
     "data": {
      "text/plain": [
       "array([0., 0., 0., 0., 0., 1., 1., 1., 1., 1., 1., 1., 1., 1., 1., 1., 0.,\n",
       "       0., 0., 0., 0.])"
      ]
     },
     "execution_count": 15,
     "metadata": {},
     "output_type": "execute_result"
    }
   ],
   "source": [
    "action(50)"
   ]
  },
  {
   "cell_type": "code",
   "execution_count": 16,
   "id": "3cc0ad0b-1f03-4fc1-85f1-3f6137b0abfd",
   "metadata": {},
   "outputs": [
    {
     "data": {
      "text/plain": [
       "2566"
      ]
     },
     "execution_count": 16,
     "metadata": {},
     "output_type": "execute_result"
    }
   ],
   "source": [
    "action(20)\n",
    "len(thales)"
   ]
  },
  {
   "attachments": {},
   "cell_type": "markdown",
   "id": "88e64a06",
   "metadata": {},
   "source": [
    "Notre première fonction prenait en compte qu'une seule action et ne prenait pas en compte le cours des actions"
   ]
  },
  {
   "cell_type": "code",
   "execution_count": 17,
   "id": "20b9beb9-2582-474b-b550-73a1d5c2b5ca",
   "metadata": {},
   "outputs": [],
   "source": [
    "def choix_action(state, Q):\n",
    "    # Choisit une action à partir de l'êtat du système et la matrice Q\n",
    "    a = action(state)\n",
    "    new_state = 0\n",
    "    j = 0\n",
    "    s = int(state/10)\n",
    "    max = -10\n",
    "    for i in range(len(a)):\n",
    "        u = uniform(0,1)\n",
    "        if u * Q[s][i] < max and a[i] == 1:\n",
    "            j = i\n",
    "            max=Q[s][i]\n",
    "            new_state = state + (-100+i*10)\n",
    "    return new_state, j"
   ]
  },
  {
   "cell_type": "code",
   "execution_count": null,
   "id": "443af743",
   "metadata": {},
   "outputs": [],
   "source": []
  },
  {
   "cell_type": "code",
   "execution_count": 18,
   "id": "c2f96678-c4dc-4e3a-a3f8-e8e55a18c2c3",
   "metadata": {},
   "outputs": [],
   "source": [
    "def diff(state,new_state,Q,a):\n",
    "    max = -10\n",
    "    c = Q[int(state/10)][a]\n",
    "    for i in range(21):\n",
    "        if Q[int(new_state/10)][i] - c >= max:\n",
    "            max = Q[int(new_state/10)][i]-c\n",
    "    return max"
   ]
  },
  {
   "cell_type": "code",
   "execution_count": 19,
   "id": "afad7a7e-47a0-43f0-9b21-2ad9405d7e0a",
   "metadata": {},
   "outputs": [],
   "source": [
    "def init_Q(Q):\n",
    "    for i in range(11):\n",
    "        a = action(i*10)\n",
    "        for j in range(len(a)):\n",
    "            if a[j]==0:\n",
    "                Q[i][j]=0\n",
    "    return Q"
   ]
  },
  {
   "cell_type": "code",
   "execution_count": 20,
   "id": "3e3c5b42-3a6f-4d9d-8d06-d7b06ec95af0",
   "metadata": {},
   "outputs": [],
   "source": [
    "Q = default_rng(70).random((11,21))\n",
    "Q = init_Q(Q)"
   ]
  },
  {
   "cell_type": "code",
   "execution_count": 21,
   "id": "ba0b0b04-3113-4e59-8960-c5508765836f",
   "metadata": {},
   "outputs": [],
   "source": [
    "def qlearning(state0, data, alpha, gamma): # alpha : pas de l'algorithme; gamma : hyperparamètre\n",
    "    Q = default_rng(70).random((11,21))\n",
    "    Q = init_Q(Q)\n",
    "    n = len(data)\n",
    "    state = state0\n",
    "    liste_state = []\n",
    "    # boucle\n",
    "    for k in range(1,n):\n",
    "        a = action(state)\n",
    "        new_state = choix_action(state,Q)[0]\n",
    "        indice_action = choix_action(state,Q)[1]\n",
    "        # update\n",
    "        R = new_state*data[k]-state*data[k-1] + (state - new_state)*data[k-1] # ce qu'on a perdu ou gagné à l'étape (reward)\n",
    "        difference = diff(state,new_state,Q,indice_action)\n",
    "        Q[int(state/10)][indice_action] += alpha*(R+gamma*difference)\n",
    "        state = new_state\n",
    "        liste_state.append(state)\n",
    "    return Q, liste_state"
   ]
  },
  {
   "cell_type": "code",
   "execution_count": 22,
   "id": "ff8cd736-7cfe-4cd0-8f6e-8d959415fda8",
   "metadata": {},
   "outputs": [],
   "source": [
    "Q, liste_state = qlearning(10,thales,0.5,1)"
   ]
  },
  {
   "cell_type": "code",
   "execution_count": null,
   "id": "b1963ae2-238d-4557-bf59-1b606713b09e",
   "metadata": {},
   "outputs": [],
   "source": [
    "plt.plot(liste_state[1000:1100])"
   ]
  },
  {
   "cell_type": "code",
   "execution_count": 25,
   "id": "238b32ca-fa6c-448a-ae05-988752e7ff38",
   "metadata": {},
   "outputs": [
    {
     "data": {
      "text/plain": [
       "[<matplotlib.lines.Line2D at 0x1d550e1cc70>]"
      ]
     },
     "execution_count": 25,
     "metadata": {},
     "output_type": "execute_result"
    },
    {
     "data": {
      "image/png": "[encoded data removed]",
      "text/plain": [
       "<Figure size 432x288 with 1 Axes>"
      ]
     },
     "metadata": {
      "needs_background": "light"
     },
     "output_type": "display_data"
    }
   ],
   "source": [
    "plt.plot(thales)"
   ]
  },
  {
   "attachments": {},
   "cell_type": "markdown",
   "id": "fb8e74f5",
   "metadata": {},
   "source": [
    "On ajoute maintenant le niveau des actions dans le choix de la décision de l'algorithme \n"
   ]
  },
  {
   "cell_type": "code",
   "execution_count": 26,
   "id": "a03037e8",
   "metadata": {},
   "outputs": [],
   "source": [
    "def initQ2(state0):\n",
    "    \n",
    "    # L'état est de la forme nombre d'actions + prix des actions \n",
    "    # On oblige la quantité d'action possible à être égale au nombre d'êtat du prix des action pour des raisons d'implémentation\n",
    "    # Nombre d'êtat = 4 = tranche de 25%\n",
    "    n_action = int((len(state0) - 1)/2)\n",
    "    n_action = int(n_action*2)\n",
    "    Q = default_rng(70).random((10**n_action,10**n_action))\n",
    "    \n",
    "    return Q   \n"
   ]
  },
  {
   "cell_type": "code",
   "execution_count": 28,
   "id": "931fa7e3",
   "metadata": {},
   "outputs": [],
   "source": [
    "def state_to_indice(state,n_action):\n",
    "    # On prend un êtat et on retourne sa place dans la matrice Q \n",
    "    # Passage d'une base 11 à une base 1\n",
    "    indice = 0 \n",
    "    for k in range(n_action):\n",
    "        indice += state[k] * 11**k\n",
    "    return int(indice)"
   ]
  },
  {
   "cell_type": "code",
   "execution_count": 29,
   "id": "a7744592",
   "metadata": {},
   "outputs": [],
   "source": [
    "def indice_to_action(indice,n_action):\n",
    "    # On prend une place dans la matrice Q  et on retourne l'êtat correspondant \n",
    "    # Passage d'une base 1 à une base 11\n",
    "    action = []\n",
    "    for k in range(n_action-1,-1,-1):\n",
    "        terme = indice // 11**(k)\n",
    "        action.insert(0,terme)\n",
    "        indice = indice - terme * 11**k\n",
    "    return(action)\n"
   ]
  },
  {
   "cell_type": "code",
   "execution_count": 30,
   "id": "62371959",
   "metadata": {},
   "outputs": [],
   "source": [
    "def action_possible(state,action,budget):\n",
    "    # On vérifie si notre transaction est possible avec le budget hors action qu'il nous reste\n",
    "    possible = False\n",
    "    depense = 0 \n",
    "    n_action = len(action)\n",
    "    for k in range(n_action):\n",
    "        depense =  depense + (action[k] - state[k])*state[n_action + k]\n",
    "    if budget >= depense:\n",
    "        possible = True\n",
    "    return(possible) "
   ]
  },
  {
   "cell_type": "code",
   "execution_count": 31,
   "id": "9017338c",
   "metadata": {},
   "outputs": [],
   "source": [
    "def choix_action2(state,Q,valeurs):\n",
    "    # On choisit l'action avec le max de Q et qui est possible\n",
    "    new_state = [0]*len(state)\n",
    "    n_action = int((len(state) - 1)/2)\n",
    "    new_state[n_action:] = valeurs\n",
    "    budget = state[-1]\n",
    "    j = 0\n",
    "    s = state_to_indice(state,n_action)\n",
    "    max = -10\n",
    "    for i in range(11**n_action):\n",
    "        # On ajoute un peu d'aléatoire\n",
    "        action = indice_to_action(i,n_action)\n",
    "        possible = action_possible(state,action,budget)\n",
    "        if Q[s][i] >= max and possible == True:\n",
    "            j = i\n",
    "            max=Q[s][i]\n",
    "            new_state[0:n_action] = action\n",
    "    return new_state, j"
   ]
  },
  {
   "cell_type": "code",
   "execution_count": 32,
   "id": "fd551a80",
   "metadata": {},
   "outputs": [
    {
     "data": {
      "text/plain": [
       "[0, 0, 0, 0, 0]"
      ]
     },
     "execution_count": 32,
     "metadata": {},
     "output_type": "execute_result"
    }
   ],
   "source": [
    "[0]*5"
   ]
  },
  {
   "cell_type": "code",
   "execution_count": 33,
   "id": "eaf638c5",
   "metadata": {},
   "outputs": [],
   "source": [
    "def reward(new_state,state,n_action):\n",
    "    # Calcul de la récompense c'est à dire notre argent après les transactions\n",
    "    R = new_state[-1] \n",
    "    for k in range(n_action):\n",
    "        R += new_state[k]*new_state[n_action + k] - state[k]*state[n_action + k] \n",
    "    return(R)"
   ]
  },
  {
   "cell_type": "code",
   "execution_count": 34,
   "id": "4c003daf",
   "metadata": {},
   "outputs": [],
   "source": [
    "def diff(state,new_state,Q,a):\n",
    "    # Calcul d'un terme de changement de la matrice Q \n",
    "    n_action = int((len(state) - 1)/2)\n",
    "    indice1 = state_to_indice(state,n_action)\n",
    "    max = -10\n",
    "    c = Q[indice1][a]\n",
    "    for i in range(21):\n",
    "        if Q[indice1][i] - c >= max:\n",
    "            max = Q[int(indice1)][i]-c\n",
    "    return max"
   ]
  },
  {
   "cell_type": "code",
   "execution_count": 35,
   "id": "26ecfaee",
   "metadata": {},
   "outputs": [],
   "source": [
    "def make_new_state(new_state,state,n_action):\n",
    "    # Créé le nouvel êtat à partir de l'action choisit \n",
    "    state2 = state\n",
    "    budget2 = state[-1]\n",
    "    for k in range(n_action):\n",
    "        state2[k] = new_state[k]\n",
    "        budget2 = budget2 + (new_state[k] - state[k])*state[n_action + k]\n",
    "    state2[-1] = budget2\n",
    "    return(state2)"
   ]
  },
  {
   "cell_type": "code",
   "execution_count": 36,
   "id": "509f1e7f",
   "metadata": {},
   "outputs": [],
   "source": [
    "def qlearning2(state0, data, alpha, gamma): # alpha : pas de l'algorithme; gamma : hyperparamètre à la con\n",
    "    Q = initQ2(state0)\n",
    "    n_action = int((len(state0) - 1)/2)\n",
    "    state = state0\n",
    "    liste_state = []\n",
    "    # boucle\n",
    "    for k in range(1,len(data)):\n",
    "        new_state = choix_action2(state,Q,data[k])[0]\n",
    "\n",
    "        new_state[n_action:] = data[k] \n",
    "        indice_action = choix_action2(state,Q,data[k])[1]\n",
    "\n",
    "        # update\n",
    "        R = reward(new_state,state,n_action) # ce qu'on a perdu ou gagné à l'étape (reward)\n",
    "\n",
    "        difference = diff(state,new_state,Q,indice_action)\n",
    "\n",
    "        indice1 = state_to_indice(state,n_action)\n",
    "\n",
    "        Q[indice1][indice_action] += alpha*(R+gamma*difference)\n",
    "\n",
    "        state = make_new_state(new_state,state,n_action)\n",
    "\n",
    "        liste_state.append(state)\n",
    "    return Q, liste_state"
   ]
  },
  {
   "cell_type": "code",
   "execution_count": 37,
   "id": "96dd629c",
   "metadata": {},
   "outputs": [],
   "source": [
    "# On test l'algorithme de Q learning \n",
    "stocks = pd.read_csv('all_stocks_5yr.csv')\n"
   ]
  },
  {
   "cell_type": "code",
   "execution_count": 38,
   "id": "0ac50de1",
   "metadata": {},
   "outputs": [
    {
     "data": {
      "text/html": [
       "<div>\n",
       "<style scoped>\n",
       "    .dataframe tbody tr th:only-of-type {\n",
       "        vertical-align: middle;\n",
       "    }\n",
       "\n",
       "    .dataframe tbody tr th {\n",
       "        vertical-align: top;\n",
       "    }\n",
       "\n",
       "    .dataframe thead th {\n",
       "        text-align: right;\n",
       "    }\n",
       "</style>\n",
       "<table border=\"1\" class=\"dataframe\">\n",
       "  <thead>\n",
       "    <tr style=\"text-align: right;\">\n",
       "      <th></th>\n",
       "      <th>close</th>\n",
       "      <th>Name</th>\n",
       "    </tr>\n",
       "  </thead>\n",
       "  <tbody>\n",
       "    <tr>\n",
       "      <th>0</th>\n",
       "      <td>14.75</td>\n",
       "      <td>AAL</td>\n",
       "    </tr>\n",
       "    <tr>\n",
       "      <th>1</th>\n",
       "      <td>14.46</td>\n",
       "      <td>AAL</td>\n",
       "    </tr>\n",
       "    <tr>\n",
       "      <th>2</th>\n",
       "      <td>14.27</td>\n",
       "      <td>AAL</td>\n",
       "    </tr>\n",
       "    <tr>\n",
       "      <th>3</th>\n",
       "      <td>14.66</td>\n",
       "      <td>AAL</td>\n",
       "    </tr>\n",
       "    <tr>\n",
       "      <th>4</th>\n",
       "      <td>13.99</td>\n",
       "      <td>AAL</td>\n",
       "    </tr>\n",
       "    <tr>\n",
       "      <th>...</th>\n",
       "      <td>...</td>\n",
       "      <td>...</td>\n",
       "    </tr>\n",
       "    <tr>\n",
       "      <th>619035</th>\n",
       "      <td>77.82</td>\n",
       "      <td>ZTS</td>\n",
       "    </tr>\n",
       "    <tr>\n",
       "      <th>619036</th>\n",
       "      <td>76.78</td>\n",
       "      <td>ZTS</td>\n",
       "    </tr>\n",
       "    <tr>\n",
       "      <th>619037</th>\n",
       "      <td>73.83</td>\n",
       "      <td>ZTS</td>\n",
       "    </tr>\n",
       "    <tr>\n",
       "      <th>619038</th>\n",
       "      <td>73.27</td>\n",
       "      <td>ZTS</td>\n",
       "    </tr>\n",
       "    <tr>\n",
       "      <th>619039</th>\n",
       "      <td>73.86</td>\n",
       "      <td>ZTS</td>\n",
       "    </tr>\n",
       "  </tbody>\n",
       "</table>\n",
       "<p>619040 rows × 2 columns</p>\n",
       "</div>"
      ],
      "text/plain": [
       "        close Name\n",
       "0       14.75  AAL\n",
       "1       14.46  AAL\n",
       "2       14.27  AAL\n",
       "3       14.66  AAL\n",
       "4       13.99  AAL\n",
       "...       ...  ...\n",
       "619035  77.82  ZTS\n",
       "619036  76.78  ZTS\n",
       "619037  73.83  ZTS\n",
       "619038  73.27  ZTS\n",
       "619039  73.86  ZTS\n",
       "\n",
       "[619040 rows x 2 columns]"
      ]
     },
     "execution_count": 38,
     "metadata": {},
     "output_type": "execute_result"
    }
   ],
   "source": [
    "stocks = stocks.drop(['date', 'open', 'high', 'low', 'volume'], axis=1) \n",
    "stocks"
   ]
  },
  {
   "cell_type": "code",
   "execution_count": 39,
   "id": "46417a16",
   "metadata": {},
   "outputs": [],
   "source": [
    "stocksAAL = stocks.loc[stocks['Name'] == \"AAL\"]\n",
    "stocksAAL = stocksAAL[\"close\"].values.tolist()\n",
    "stocksZTS = stocks.loc[stocks['Name'] == \"ZTS\"]\n",
    "stocksZTS = stocksZTS[\"close\"].values.tolist()\n",
    "\n",
    "data = []\n",
    "for k in range(len(stocksAAL)) : \n",
    "    data.append([stocksAAL[k],stocksZTS[k]])"
   ]
  },
  {
   "cell_type": "code",
   "execution_count": 40,
   "id": "05e080cf",
   "metadata": {},
   "outputs": [],
   "source": [
    "state0 = [0,0,10,10,100]\n",
    "trajectoire = qlearning2(state0,data, 0.5, 0.5)[1]\n",
    "Q =  qlearning2(state0,data, 0.5, 0.5)[0]\n"
   ]
  }
 ],
 "metadata": {
  "kernelspec": {
   "display_name": "base",
   "language": "python",
   "name": "python3"
  },
  "language_info": {
   "codemirror_mode": {
    "name": "ipython",
    "version": 3
   },
   "file_extension": ".py",
   "mimetype": "text/x-python",
   "name": "python",
   "nbconvert_exporter": "python",
   "pygments_lexer": "ipython3",
   "version": "3.8.5"
  },
  "vscode": {
   "interpreter": {
    "hash": "f6716dbedf63cc3cc3454830c6e7cfdb12d0aa2e0dca19a8f02decd88c98998a"
   }
  }
 },
 "nbformat": 4,
 "nbformat_minor": 5
}
